{
 "cells": [
  {
   "cell_type": "markdown",
   "id": "93351201-f48c-4111-9271-1a10dfa48a9e",
   "metadata": {},
   "source": [
    "# 1. Com fem web scraping?"
   ]
  },
  {
   "cell_type": "markdown",
   "id": "c8bd3690-6307-4d9e-ba3e-b004c7da97c5",
   "metadata": {},
   "source": [
    "## 1.2. Avaluació inicial"
   ]
  },
  {
   "cell_type": "code",
   "execution_count": 6,
   "id": "27a5241e-4126-408c-871f-a29a16e31375",
   "metadata": {},
   "outputs": [],
   "source": [
    "import requests\n",
    "from bs4 import BeautifulSoup"
   ]
  },
  {
   "cell_type": "code",
   "execution_count": 4,
   "id": "03427667-8fe3-4986-b922-49f327eeaae2",
   "metadata": {},
   "outputs": [],
   "source": [
    "import whois\n",
    "import builtwith"
   ]
  },
  {
   "cell_type": "code",
   "execution_count": 3,
   "id": "47b5eb67-ef8c-4278-8ddd-e60efd3214de",
   "metadata": {},
   "outputs": [
    {
     "name": "stdout",
     "output_type": "stream",
     "text": [
      "{\n",
      "  \"domain_name\": [\n",
      "    \"WORDPRESS.COM\",\n",
      "    \"wordpress.com\"\n",
      "  ],\n",
      "  \"registrar\": \"MarkMonitor, Inc.\",\n",
      "  \"whois_server\": \"whois.markmonitor.com\",\n",
      "  \"referral_url\": null,\n",
      "  \"updated_date\": \"2023-08-28 07:34:11\",\n",
      "  \"creation_date\": \"2000-03-03 12:13:23\",\n",
      "  \"expiration_date\": [\n",
      "    \"2033-03-03 12:13:23\",\n",
      "    \"2033-03-03 00:00:00\"\n",
      "  ],\n",
      "  \"name_servers\": [\n",
      "    \"NS1.WORDPRESS.COM\",\n",
      "    \"NS2.WORDPRESS.COM\",\n",
      "    \"NS3.WORDPRESS.COM\",\n",
      "    \"NS4.WORDPRESS.COM\",\n",
      "    \"ns3.wordpress.com\",\n",
      "    \"ns2.wordpress.com\",\n",
      "    \"ns4.wordpress.com\",\n",
      "    \"ns1.wordpress.com\"\n",
      "  ],\n",
      "  \"status\": [\n",
      "    \"clientDeleteProhibited https://icann.org/epp#clientDeleteProhibited\",\n",
      "    \"clientTransferProhibited https://icann.org/epp#clientTransferProhibited\",\n",
      "    \"clientUpdateProhibited https://icann.org/epp#clientUpdateProhibited\",\n",
      "    \"serverDeleteProhibited https://icann.org/epp#serverDeleteProhibited\",\n",
      "    \"serverTransferProhibited https://icann.org/epp#serverTransferProhibited\",\n",
      "    \"serverUpdateProhibited https://icann.org/epp#serverUpdateProhibited\",\n",
      "    \"clientUpdateProhibited (https://www.icann.org/epp#clientUpdateProhibited)\",\n",
      "    \"clientTransferProhibited (https://www.icann.org/epp#clientTransferProhibited)\",\n",
      "    \"clientDeleteProhibited (https://www.icann.org/epp#clientDeleteProhibited)\",\n",
      "    \"serverUpdateProhibited (https://www.icann.org/epp#serverUpdateProhibited)\",\n",
      "    \"serverTransferProhibited (https://www.icann.org/epp#serverTransferProhibited)\",\n",
      "    \"serverDeleteProhibited (https://www.icann.org/epp#serverDeleteProhibited)\"\n",
      "  ],\n",
      "  \"emails\": [\n",
      "    \"abusecomplaints@markmonitor.com\",\n",
      "    \"whoisrequest@markmonitor.com\"\n",
      "  ],\n",
      "  \"dnssec\": \"unsigned\",\n",
      "  \"name\": null,\n",
      "  \"org\": \"Automattic, Inc.\",\n",
      "  \"address\": null,\n",
      "  \"city\": null,\n",
      "  \"state\": \"CA\",\n",
      "  \"registrant_postal_code\": null,\n",
      "  \"country\": \"US\"\n",
      "}\n"
     ]
    }
   ],
   "source": [
    "print(whois.whois('https://www.wordpress.com'))"
   ]
  },
  {
   "cell_type": "code",
   "execution_count": 6,
   "id": "bd43eb45-3d48-4b17-80df-f55596c9fd24",
   "metadata": {},
   "outputs": [
    {
     "name": "stdout",
     "output_type": "stream",
     "text": [
      "{'web-servers': ['Nginx'], 'ecommerce': ['WooCommerce'], 'cms': ['WordPress'], 'programming-languages': ['PHP'], 'blogs': ['PHP', 'WordPress'], 'javascript-frameworks': ['jQuery']}\n"
     ]
    }
   ],
   "source": [
    "print(builtwith.builtwith('https://www.wordpress.com'))"
   ]
  },
  {
   "cell_type": "markdown",
   "id": "88e1b5bb-076f-440e-a6ca-7a0a04bfa58e",
   "metadata": {},
   "source": [
    "# 2. Primeres passes"
   ]
  },
  {
   "cell_type": "markdown",
   "id": "bf74d4c8-e9e5-40cb-8920-17b819703902",
   "metadata": {},
   "source": [
    "## 2.1. Funcionament del navegador web"
   ]
  },
  {
   "cell_type": "markdown",
   "id": "a972259e-7316-40eb-bd82-11111f0b759b",
   "metadata": {},
   "source": [
    "#### 2.1.1. Enviament peticions HTTP"
   ]
  },
  {
   "cell_type": "code",
   "execution_count": 8,
   "id": "02bf5aa8-b9f7-46c7-8d74-e4f848f16897",
   "metadata": {},
   "outputs": [
    {
     "name": "stdout",
     "output_type": "stream",
     "text": [
      "<!DOCTYPE html>\n",
      "<html lang=\"en\" class=\"no-js\">\n",
      "<head>\n",
      "<meta charset=\"utf-8\">\n",
      "<title>Wikipedia</title>\n",
      "<meta name=\"description\" content=\"Wikipedia is a free online encyclopedia, created and edited by volunteers around the world and hosted by the Wikimedia Foundation.\">\n",
      "<script>\n",
      "document.documentElement.className = document.documentElement.className.replace( /(^|\\s)no-js(\\s|$)/, \"$1js-enabled$2\" );\n",
      "</script>\n",
      "<meta name=\"viewport\" content=\"initial-scale=1,user-scalable=yes\">\n",
      "<link rel=\"apple-touch-icon\" href=\"/static/apple-touch/wikipedia.png\">\n",
      "<link rel=\"shortcut icon\" href=\"/static/favicon/wikipedia.ico\">\n",
      "<link rel=\"license\" href=\"//creativecommons.org/licenses/by-sa/4.0/\">\n",
      "<style>\n",
      ".sprite{background-image:linear-gradient(transparent,transparent),url(portal/wikipedia.org/assets/img/sprite-de847d1a.svg);background-repeat:no-repeat;display:inline-block;vertical-align:middle}.svg-Commons-logo_sister{background-position:0 0;width:47px;height:47px}.svg-MediaWiki-logo_sister{background-position:0 -47px;width:42px;height:42px}.svg-Meta-Wiki-logo_sister{background-position:0 -89px;width:37px;height:37px}.svg-Wikibooks-logo_sister{background-position:0 -126px;width:37px;height:37px}.svg-Wikidata-logo_sister{background-position:0 -163px;width:49px;height:49px}.svg-Wikifunctions-logo_sister{background-position:0 -212px;width:50px;height:50px}.svg-Wikimedia-logo_black{background-position:0 -262px;width:42px;height:42px}.svg-Wikipedia_wordmark{background-position:0 -304px;width:176px;height:32px}.svg-Wikiquote-logo_sister{background-position:0 -336px;width:42px;height:42px}.svg-Wikisource-logo_sister{background-position:0 -378px;width:39px;height:39px}.svg-Wikispecies-logo_sister{background-position:0 -417px;width:42px;height:42px}.svg-Wikiversity-logo_sister{background-position:0 -459px;width:43px;height:37px}.svg-Wikivoyage-logo_sister{background-position:0 -496px;width:36px;height:36px}.svg-Wiktionary-logo_sister{background-position:0 -532px;width:37px;height:37px}.svg-arrow-down{background-position:0 -569px;width:12px;height:8px}.svg-arrow-down-blue{background-position:0 -577px;width:14px;height:14px}.svg-badge_google_play_store{background-position:0 -591px;width:124px;height:38px}.svg-badge_ios_app_store{background-position:0 -629px;width:110px;height:38px}.svg-language-icon{background-position:0 -667px;width:22px;height:22px}.svg-noimage{background-position:0 -689px;width:58px;height:58px}.svg-search-icon{background-position:0 -747px;width:22px;height:22px}.svg-wikipedia_app_tile{background-position:0 -769px;width:42px;height:42px}\n",
      "</style>\n",
      "<style>\n",
      "html{font-family:sans-serif;-ms-text-size-adjust:100%;-webkit-text-size-adjust:100%;font-size:62.5%}body{margin:0}article,aside,details,figcaption,figure,footer,header,hgroup,main,menu,nav,section,summary{display:block}audio,canvas,progress,video{display:inline-block;vertical-align:baseline}audio:not([controls]){display:none;height:0}[hidden],template{display:none}a{background-color:transparent}a:active,a:hover{outline:0}abbr[title]{border-bottom:1px dotted}b,strong{font-weight:700}dfn{font-style:italic}h1{font-size:32px;font-size:3.2rem;margin:1.2rem 0}mark{background:#fef6e7;color:#000}small{font-size:13px;font-size:1.3rem}sub,sup{font-size:75%;line-height:0;position:relative;vertical-align:baseline}sup{top:-.5em}sub{bottom:-.25em}svg:not(:root){overflow:hidden}figure{margin:1.6rem 4rem}hr{-webkit-box-sizing:content-box;-moz-box-sizing:content-box;box-sizing:content-box}pre{overflow:auto}code,kbd,pre,samp{font-family:monospace,monospace;font-size:14px;font-size:1.4rem}button,input,optgroup,select,textarea{color:inherit;font:inherit;margin:0}button{overflow:visible}button,select{text-transform:none}button,html input[type=button],input[type=reset],input[type=submit]{-webkit-appearance:button;cursor:pointer}button[disabled],html input[disabled]{cursor:default}button::-moz-focus-inner,input::-moz-focus-inner{border:0;padding:0}input{line-height:normal}input[type=checkbox],input[type=radio]{-webkit-box-sizing:border-box;-moz-box-sizing:border-box;box-sizing:border-box;padding:0}input[type=number]::-webkit-inner-spin-button,input[type=number]::-webkit-outer-spin-button{height:auto}input[type=search]{-webkit-appearance:none;-webkit-box-sizing:content-box;-moz-box-sizing:content-box;box-sizing:content-box}input[type=search]::-webkit-search-cancel-button,input[type=search]::-webkit-search-decoration{-webkit-appearance:none}input[type=search]:focus{outline-offset:-2px}fieldset{border:1px solid #a2a9b1;margin:0 .2rem;padding:.6rem 1rem 1.2rem}legend{border:0;padding:0}textarea{overflow:auto}optgroup{font-weight:700}table{border-collapse:collapse;border-spacing:0}td,th{padding:0}.hidden,[hidden]{display:none!important}.screen-reader-text{display:block;position:absolute!important;clip:rect(1px,1px,1px,1px);width:1px;height:1px;margin:-1px;border:0;padding:0;overflow:hidden}body{background-color:#fff;font-family:-apple-system,BlinkMacSystemFont,Segoe UI,Roboto,Inter,Helvetica,Arial,sans-serif;font-size:14px;font-size:1.4rem;line-height:1.5;margin:.4rem 0 1.6rem}main{padding:0 1.28rem}a{-ms-touch-action:manipulation;touch-action:manipulation}a,a:active,a:focus{unicode-bidi:embed;outline:0;color:#36c;text-decoration:none}a:focus{outline:1px solid #36c}a:hover{text-decoration:underline}img{vertical-align:middle}hr,img{border:0}hr{clear:both;height:0;border-bottom:1px solid #c8ccd1;margin:.26rem 0}.pure-button{display:inline-block;zoom:1;line-height:normal;white-space:nowrap;text-align:center;cursor:pointer;-webkit-user-drag:none;-webkit-user-select:none;-moz-user-select:none;-ms-user-select:none;user-select:none;-webkit-box-sizing:border-box;-moz-box-sizing:border-box;box-sizing:border-box;background-color:#f8f9fa;color:#202122;position:relative;min-height:19.2px;min-height:1.92rem;min-width:16px;min-width:1.6rem;margin:.16rem 0;border:1px solid #a2a9b1;-moz-border-radius:2px;border-radius:2px;padding:.8rem 1.6rem;font-family:inherit;font-size:inherit;font-weight:700;text-decoration:none;vertical-align:top;-webkit-transition:background .1s ease,color .1s ease,border-color .1s ease,-webkit-box-shadow .1s ease;transition:background .1s ease,color .1s ease,border-color .1s ease,-webkit-box-shadow .1s ease;-o-transition:background .1s ease,color .1s ease,border-color .1s ease,box-shadow .1s ease;-moz-transition:background .1s ease,color .1s ease,border-color .1s ease,box-shadow .1s ease,-moz-box-shadow .1s ease;transition:background .1s ease,color .1s ease,border-color .1s ease,box-shadow .1s ease;transition:background .1s ease,color .1s ease,border-color .1s ease,box-shadow .1s ease,-webkit-box-shadow .1s ease,-moz-box-shadow .1s ease}.pure-button::-moz-focus-inner{padding:0;border:0}.pure-button-hover,.pure-button:hover{background-color:#fff;border-color:#a2a9b1;color:#404244}.pure-button-active,.pure-button:active{background-color:#eaecf0;border-color:#72777d;color:#000}.pure-button:focus{outline:1px solid transparent;border-color:#36c;-webkit-box-shadow:inset 0 0 0 1px #36c;-moz-box-shadow:inset 0 0 0 1px #36c;box-shadow:inset 0 0 0 1px #36c}.pure-button-primary-progressive{background-color:#36c;border-color:#36c;color:#fff}.pure-button-primary-progressive:hover{background:#447ff5;border-color:#447ff5}.pure-button-primary-progressive:active{background-color:#2a4b8d;border-color:#2a4b8d;-webkit-box-shadow:none;-moz-box-shadow:none;box-shadow:none;color:#fff}.pure-button-primary-progressive:focus{-webkit-box-shadow:inset 0 0 0 1px #36c,inset 0 0 0 2px #fff;-moz-box-shadow:inset 0 0 0 1px #36c,inset 0 0 0 2px #fff;box-shadow:inset 0 0 0 1px #36c,inset 0 0 0 2px #fff;border-color:#36c}.pure-form input[type=search]{background-color:#fff;display:inline-block;-webkit-box-sizing:border-box;-moz-box-sizing:border-box;box-sizing:border-box;border:1px solid #a2a9b1;-moz-border-radius:2px;border-radius:2px;padding:.8rem;-webkit-box-shadow:inset 0 0 0 1px #fff;-moz-box-shadow:inset 0 0 0 1px #fff;box-shadow:inset 0 0 0 1px #fff;vertical-align:middle}.pure-form input:focus:invalid{color:#d73333;border-color:#b32424}.pure-form fieldset{margin:0;padding:.56rem 0 1.2rem;border:0}@media only screen and (max-width:480px){.pure-form input[type=search]{display:block}}.central-textlogo-wrapper{display:inline-block;vertical-align:bottom}.central-textlogo{position:relative;margin:4rem auto .5rem;width:270px;font-family:Linux Libertine,Hoefler Text,Georgia,Times New Roman,Times,serif;font-size:30px;font-size:3rem;font-weight:400;line-height:33px;line-height:3.3rem;text-align:center;-moz-font-feature-settings:\"ss05=1\";-moz-font-feature-settings:\"ss05\";-webkit-font-feature-settings:\"ss05\";-ms-font-feature-settings:\"ss05\";font-feature-settings:\"ss05\"}.localized-slogan{display:block;font-family:Linux Libertine,Georgia,Times,\"Source Serif Pro\",serif;font-size:15px;font-size:1.5rem;font-weight:400}.central-textlogo__image{color:transparent;display:inline-block;overflow:hidden;text-indent:-10000px}.central-featured-logo{position:absolute;top:158px;left:35px}@media (max-width:480px){.central-textlogo{position:relative;height:70px;width:auto;margin:2rem 0 0;text-align:center;line-height:25px;line-height:2.5rem;text-indent:-10px;text-indent:-1rem;font-size:1em}.central-textlogo-wrapper{position:relative;top:12px;text-indent:2px;text-indent:.2rem}.svg-Wikipedia_wordmark{width:150px;height:25px;background-position:0 -260px;-webkit-background-size:100% 100%;-moz-background-size:100%;background-size:100%}.localized-slogan{font-size:14px;font-size:1.4rem}.central-featured-logo{position:relative;display:inline-block;width:57px;height:auto;left:0;top:0}}@media (max-width:240px){.central-textlogo__image{height:auto}}.central-featured{position:relative;height:325px;height:32.5rem;width:546px;width:54.6rem;max-width:100%;margin:0 auto;text-align:center;vertical-align:middle}.central-featured-lang{position:absolute;width:156px;width:15.6rem}.central-featured-lang .link-box{display:block;padding:0;text-decoration:none;white-space:normal}.central-featured-lang .link-box:hover strong{text-decoration:underline}.central-featured-lang :hover{background-color:#eaecf0}.central-featured-lang strong{display:block;font-size:16px;font-size:1.6rem}.central-featured-lang small{color:#54595d;display:inline-block;font-size:13px;font-size:1.3rem;line-height:1.6}.central-featured-lang em{font-style:italic}.central-featured-lang .emNonItalicLang{font-style:normal}.lang1{top:0;right:60%}.lang2{top:0;left:60%}.lang3{top:20%;right:70%}.lang4{top:20%;left:70%}.lang5{top:40%;right:72%}.lang6{top:40%;left:72%}.lang7{top:60%;right:70%}.lang8{top:60%;left:70%}.lang9{top:80%;right:60%}.lang10{top:80%;left:60%}@media (max-width:480px){.central-featured{width:auto;height:auto;margin-top:8rem;font-size:13px;font-size:1.3rem;text-align:left}.central-featured:after{content:\" \";display:block;visibility:hidden;clear:both;height:0;font-size:0}.central-featured-lang{display:block;float:left;position:relative;top:auto;left:auto;right:auto;-webkit-box-sizing:border-box;-moz-box-sizing:border-box;box-sizing:border-box;height:64px;height:6.4rem;width:33%;margin:0 0 16px;padding:0 1.6rem;font-size:14px;font-size:1.4rem;text-align:center}.central-featured-lang strong{font-size:14px;font-size:1.4rem;margin-bottom:4px}.central-featured-lang small{line-height:1.4}}@media (max-width:375px){.central-featured-lang{font-size:13px;font-size:1.3rem}}@media (max-width:240px){.central-featured-lang{width:100%}}.search-container{float:none;max-width:95%;width:540px;margin:.4rem auto 1.95rem;text-align:center;vertical-align:middle}.search-container fieldset{word-spacing:-4px}.search-container button{min-height:44px;min-height:4.4rem;margin:0;-moz-border-radius:0 2px 2px 0;border-radius:0 2px 2px 0;padding:.8rem 1.6rem;font-size:16px;font-size:1.6rem;z-index:2}.search-container button .svg-search-icon{text-indent:-9999px}.search-container input[type=search]::-webkit-search-results-button,.search-container input[type=search]::-webkit-search-results-decoration{-webkit-appearance:none}.search-container input::-webkit-calendar-picker-indicator{display:none}.search-container .sprite.svg-arrow-down{position:absolute;top:8px;top:.8rem;right:6px;right:.6rem}#searchInput{-webkit-appearance:none;width:100%;height:44px;height:4.4rem;border-width:1px 0 1px 1px;-moz-border-radius:2px 0 0 2px;border-radius:2px 0 0 2px;padding:.8rem 9.6rem .8rem 1.2rem;font-size:16px;font-size:1.6rem;line-height:1.6;-webkit-transition:background .1s ease,border-color .1s ease,-webkit-box-shadow .1s ease;transition:background .1s ease,border-color .1s ease,-webkit-box-shadow .1s ease;-o-transition:background .1s ease,border-color .1s ease,box-shadow .1s ease;-moz-transition:background .1s ease,border-color .1s ease,box-shadow .1s ease,-moz-box-shadow .1s ease;transition:background .1s ease,border-color .1s ease,box-shadow .1s ease;transition:background .1s ease,border-color .1s ease,box-shadow .1s ease,-webkit-box-shadow .1s ease,-moz-box-shadow .1s ease}#searchInput:hover{border-color:#72777d}#searchInput:focus{border-color:#36c;-webkit-box-shadow:inset 0 0 0 1px #36c;-moz-box-shadow:inset 0 0 0 1px #36c;box-shadow:inset 0 0 0 1px #36c;outline:1px solid transparent}.search-container .search-input{display:inline-block;position:relative;width:73%;vertical-align:top}@media only screen and (max-width:480px){.search-container .pure-form fieldset{margin-left:1rem;margin-right:6.6rem}.search-container .search-input{width:100%;margin-right:-6.6rem}.search-container .pure-form button{float:right;right:-56px;right:-5.6rem}}.suggestions-dropdown{background-color:#fff;display:inline-block;position:absolute;left:0;z-index:2;margin:0;padding:0;border:1px solid #a2a9b1;border-top:0;-webkit-box-shadow:0 2px 2px 0 rgba(0,0,0,.2);-moz-box-shadow:0 2px 2px 0 rgba(0,0,0,.2);box-shadow:0 2px 2px 0 rgba(0,0,0,.2);list-style-type:none;word-spacing:normal}.suggestion-link,.suggestions-dropdown{-webkit-box-sizing:border-box;-moz-box-sizing:border-box;box-sizing:border-box;width:100%;text-align:left}.suggestion-link{display:block;position:relative;min-height:70px;min-height:7rem;padding:1rem 1rem 1rem 8.5rem;border-bottom:1px solid #eaecf0;color:inherit;text-decoration:none;text-align:initial;white-space:normal}.suggestion-link.active{background-color:#eaf3ff}a.suggestion-link:hover{text-decoration:none}a.suggestion-link:active,a.suggestion-link:focus{outline:0;white-space:normal}.suggestion-thumbnail{background-color:#eaecf0;background-image:url(portal/wikipedia.org/assets/img/noimage.png);background-image:-webkit-linear-gradient(transparent,transparent),url(\"data:image/svg+xml;charset=utf-8,%3Csvg xmlns='http://www.w3.org/2000/svg' viewBox='0 0 56 56'%3E%3Cpath fill='%23eee' d='M0 0h56v56H0z'/%3E%3Cpath fill='%23999' d='M36.4 13.5H17.8v24.9c0 1.4.9 2.3 2.3 2.3h18.7v-25c.1-1.4-1-2.2-2.4-2.2zM30.2 17h5.1v6.4h-5.1V17zm-8.8 0h6v1.8h-6V17zm0 4.6h6v1.8h-6v-1.8zm0 15.5v-1.8h13.8v1.8H21.4zm13.8-4.5H21.4v-1.8h13.8v1.8zm0-4.7H21.4v-1.8h13.8v1.8z'/%3E%3C/svg%3E\");background-image:-webkit-linear-gradient(transparent,transparent),url(portal/wikipedia.org/assets/img/noimage.svg) !ie;background-image:-webkit-gradient(linear,left top,left bottom,from(transparent),to(transparent)),url(\"data:image/svg+xml;charset=utf-8,%3Csvg xmlns='http://www.w3.org/2000/svg' viewBox='0 0 56 56'%3E%3Cpath fill='%23eee' d='M0 0h56v56H0z'/%3E%3Cpath fill='%23999' d='M36.4 13.5H17.8v24.9c0 1.4.9 2.3 2.3 2.3h18.7v-25c.1-1.4-1-2.2-2.4-2.2zM30.2 17h5.1v6.4h-5.1V17zm-8.8 0h6v1.8h-6V17zm0 4.6h6v1.8h-6v-1.8zm0 15.5v-1.8h13.8v1.8H21.4zm13.8-4.5H21.4v-1.8h13.8v1.8zm0-4.7H21.4v-1.8h13.8v1.8z'/%3E%3C/svg%3E\");background-image:-moz- oldlinear-gradient(transparent,transparent),url(\"data:image/svg+xml;charset=utf-8,%3Csvg xmlns='http://www.w3.org/2000/svg' viewBox='0 0 56 56'%3E%3Cpath fill='%23eee' d='M0 0h56v56H0z'/%3E%3Cpath fill='%23999' d='M36.4 13.5H17.8v24.9c0 1.4.9 2.3 2.3 2.3h18.7v-25c.1-1.4-1-2.2-2.4-2.2zM30.2 17h5.1v6.4h-5.1V17zm-8.8 0h6v1.8h-6V17zm0 4.6h6v1.8h-6v-1.8zm0 15.5v-1.8h13.8v1.8H21.4zm13.8-4.5H21.4v-1.8h13.8v1.8zm0-4.7H21.4v-1.8h13.8v1.8z'/%3E%3C/svg%3E\");background-image:-o-linear-gradient(transparent,transparent),url(\"data:image/svg+xml;charset=utf-8,%3Csvg xmlns='http://www.w3.org/2000/svg' viewBox='0 0 56 56'%3E%3Cpath fill='%23eee' d='M0 0h56v56H0z'/%3E%3Cpath fill='%23999' d='M36.4 13.5H17.8v24.9c0 1.4.9 2.3 2.3 2.3h18.7v-25c.1-1.4-1-2.2-2.4-2.2zM30.2 17h5.1v6.4h-5.1V17zm-8.8 0h6v1.8h-6V17zm0 4.6h6v1.8h-6v-1.8zm0 15.5v-1.8h13.8v1.8H21.4zm13.8-4.5H21.4v-1.8h13.8v1.8zm0-4.7H21.4v-1.8h13.8v1.8z'/%3E%3C/svg%3E\");background-image:linear-gradient(transparent,transparent),url(\"data:image/svg+xml;charset=utf-8,%3Csvg xmlns='http://www.w3.org/2000/svg' viewBox='0 0 56 56'%3E%3Cpath fill='%23eee' d='M0 0h56v56H0z'/%3E%3Cpath fill='%23999' d='M36.4 13.5H17.8v24.9c0 1.4.9 2.3 2.3 2.3h18.7v-25c.1-1.4-1-2.2-2.4-2.2zM30.2 17h5.1v6.4h-5.1V17zm-8.8 0h6v1.8h-6V17zm0 4.6h6v1.8h-6v-1.8zm0 15.5v-1.8h13.8v1.8H21.4zm13.8-4.5H21.4v-1.8h13.8v1.8zm0-4.7H21.4v-1.8h13.8v1.8z'/%3E%3C/svg%3E\");background-image:-webkit-gradient(linear,left top,left bottom,from(transparent),to(transparent)),url(portal/wikipedia.org/assets/img/noimage.svg) !ie;background-image:-moz- oldlinear-gradient(transparent,transparent),url(portal/wikipedia.org/assets/img/noimage.svg) !ie;background-image:-o-linear-gradient(transparent,transparent),url(portal/wikipedia.org/assets/img/noimage.svg) !ie;background-image:linear-gradient(transparent,transparent),url(portal/wikipedia.org/assets/img/noimage.svg) !ie;background-image:-o-linear-gradient(transparent,transparent),url(portal/wikipedia.org/assets/img/noimage.png);background-position:50%;background-repeat:no-repeat;-webkit-background-size:100% auto;-moz-background-size:100% auto;background-size:100% auto;-webkit-background-size:cover;-moz-background-size:cover;background-size:cover;height:100%;width:70px;width:7rem;position:absolute;top:0;left:0}.suggestion-title{margin:0 0 .78rem;color:#54595d;font-size:16px;font-size:1.6rem;line-height:18.72px;line-height:1.872rem}.suggestion-link.active .suggestion-title{color:#36c}.suggestion-highlight{font-style:normal;text-decoration:underline}.suggestion-description{color:#72777d;margin:0;font-size:13px;font-size:1.3rem;line-height:14.299px;line-height:1.43rem}.styled-select{display:none;position:absolute;top:10px;top:1rem;bottom:12px;bottom:1.2rem;right:12px;right:1.2rem;max-width:95px;max-width:9.5rem;height:24px;height:2.4rem;-moz-border-radius:2px;border-radius:2px}.styled-select:hover{background-color:#f8f9fa}.styled-select .hide-arrow{right:32px;right:3.2rem;max-width:68px;max-width:6.8rem;height:24px;height:2.4rem;overflow:hidden;text-align:right}.styled-select select{background:transparent;display:inline;overflow:hidden;height:24px;height:2.4rem;min-width:110px;min-width:11rem;max-width:110px;max-width:11rem;width:110px;width:11rem;-webkit-box-sizing:border-box;-moz-box-sizing:border-box;box-sizing:border-box;border:0;line-height:24px;line-height:2.4rem;-webkit-appearance:none;-moz-appearance:window;text-indent:.01px;-o-text-overflow:\"\";text-overflow:\"\";opacity:0;-moz-appearance:none;appearance:none;cursor:pointer}.styled-select.no-js{width:95px;width:9.5rem}.styled-select.no-js select{opacity:1;margin:0;padding:0 2.4rem 0 .8rem;color:#54595d}.styled-select.no-js .hide-arrow{width:68px;width:6.8rem}.search-container .styled-select.no-js .js-langpicker-label{display:none}.styled-select.js-enabled .hide-arrow{padding:0 2.4rem 0 .8rem}.styled-select.js-enabled select{background:transparent;position:absolute;top:0;left:0;height:100%;z-index:1;width:100%;border:0;margin:0;padding:0 2.4rem;color:transparent;color:hsla(0,0%,100%,0)}.styled-select.js-enabled select option{color:#54595d}.styled-select.js-enabled select:hover{background-color:transparent}.styled-select-active-helper{display:none}.styled-select.js-enabled select:focus+.styled-select-active-helper{display:block;position:absolute;top:0;left:0;z-index:0;width:100%;height:100%;outline:1px solid #36c}.search-container .js-langpicker-label{display:inline-block;margin:0;color:#54595d;font-size:13px;font-size:1.3rem;line-height:24px;line-height:2.4rem;text-transform:uppercase}.styled-select select:hover{background-color:#f8f9fa}.styled-select select::-ms-expand{display:none}.styled-select select:focus{outline:1px solid transparent;-webkit-box-shadow:none;-moz-box-shadow:none;box-shadow:none}@-moz-document url-prefix(){.styled-select select{width:110%}}.other-projects{display:inline-block;width:65%}.other-project{float:left;position:relative;width:33%;height:90px;height:9rem}.other-project-link{display:inline-block;min-height:50px;width:90%;padding:1em;white-space:nowrap}.other-project-link:hover{background-color:#eaecf0}a.other-project-link{text-decoration:none}.other-project-icon{display:inline-block;width:50px;text-align:center}.svg-Wikinews-logo_sister{background-image:url(portal/wikipedia.org/assets/img/Wikinews-logo_sister.png);background-position:0 0;-webkit-background-size:47px 26px;-moz-background-size:47px 26px;background-size:47px 26px;width:47px;height:26px}@media (-o-min-device-pixel-ratio:5/4),(-webkit-min-device-pixel-ratio:1.25),(min-resolution:120dpi){.svg-Wikinews-logo_sister{background-image:url(portal/wikipedia.org/assets/img/Wikinews-logo_sister@2x.png)}}.other-project-text,.other-project .sprite-project-logos{display:inline-block}.other-project-text{max-width:65%;font-size:14px;font-size:1.4rem;vertical-align:middle;white-space:normal}.other-project-tagline,.other-project-title{display:block}.other-project-tagline{color:#54595d;font-size:13px;font-size:1.3rem}@media screen and (max-width:768px){.other-projects{width:100%}.other-project{width:33%}}@media screen and (max-width:480px){.other-project{width:50%}.other-project-tagline{-webkit-hyphens:auto;-moz-hyphens:auto;-ms-hyphens:auto;hyphens:auto}}@media screen and (max-width:320px){.other-project-text{margin-right:5px;font-size:13px;font-size:1.3rem}}.lang-list-container{background-color:#f8f9fa;overflow:hidden;position:relative;-webkit-box-sizing:border-box;-moz-box-sizing:border-box;box-sizing:border-box;max-height:0;width:80%;margin:-1.6rem auto 4.8rem;-webkit-transition:max-height .5s ease-out .16s,visibility .5s ease-in 1s;-o-transition:max-height .5s ease-out .16s,visibility .5s ease-in 1s;-moz-transition:max-height .5s ease-out .16s,visibility .5s ease-in 1s;transition:max-height .5s ease-out .16s,visibility .5s ease-in 1s}.js-enabled .lang-list-container{visibility:hidden}.lang-list-active .lang-list-container,.no-js .lang-list-container{visibility:visible;max-height:10000px;-webkit-transition:max-height 1s ease-in .2s,visibility 1000s ease-in 0ms;-o-transition:max-height 1s ease-in .2s,visibility 1000s ease-in 0ms;-moz-transition:max-height 1s ease-in .2s,visibility 1000s ease-in 0ms;transition:max-height 1s ease-in .2s,visibility 1000s ease-in 0ms}.no-js .lang-list-button{display:none}.lang-list-button-wrapper{text-align:center}.lang-list-button{background-color:#f8f9fa;display:inline;position:relative;z-index:1;margin:0 auto;padding:.6rem 1.2rem;outline:16px solid #fff;outline:1.6rem solid #fff;border:1px solid #a2a9b1;-moz-border-radius:2px;border-radius:2px;color:#36c;font-size:14px;font-size:1.4rem;font-weight:700;line-height:1;-webkit-transition:outline-width .1s ease-in .5s;-o-transition:outline-width .1s ease-in .5s;-moz-transition:outline-width .1s ease-in .5s;transition:outline-width .1s ease-in .5s}.lang-list-button:hover{background-color:#fff;border-color:#a2a9b1}.lang-list-button:focus{border-color:#36c;-webkit-box-shadow:inset 0 0 0 1px #36c;-moz-box-shadow:inset 0 0 0 1px #36c;box-shadow:inset 0 0 0 1px #36c}.lang-list-active .lang-list-button{background-color:#fff;outline:1px solid #fff;border-color:#72777d;-webkit-transition-delay:0s;-moz-transition-delay:0s;-o-transition-delay:0s;transition-delay:0s}.lang-list-button-text{padding:0 .64rem;vertical-align:middle}.lang-list-button i{display:inline-block;vertical-align:middle}.no-js .lang-list-border,.no-js .lang-list-button{display:none}.lang-list-border{background-color:#c8ccd1;display:block;position:relative;max-width:460px;width:80%;margin:-1.6rem auto 1.6rem;height:1px;-webkit-transition:max-width .2s ease-out .4s;-o-transition:max-width .2s ease-out .4s;-moz-transition:max-width .2s ease-out .4s;transition:max-width .2s ease-out .4s}.lang-list-active .lang-list-border{max-width:85%;-webkit-transition-delay:0s;-moz-transition-delay:0s;-o-transition-delay:0s;transition-delay:0s}.no-js .lang-list-content{padding:0}.lang-list-content{position:relative;-webkit-box-sizing:border-box;-moz-box-sizing:border-box;box-sizing:border-box;width:100%;padding:1.6rem 1.6rem 0}.svg-arrow-down-blue{-webkit-transition:-webkit-transform .2s ease-out;transition:-webkit-transform .2s ease-out;-o-transition:transform .2s ease-out;-moz-transition:transform .2s ease-out,-moz-transform .2s ease-out;transition:transform .2s ease-out;transition:transform .2s ease-out,-webkit-transform .2s ease-out,-moz-transform .2s ease-out}.lang-list-active .svg-arrow-down-blue{-webkit-transform:rotate(180deg);-moz-transform:rotate(180deg);-ms-transform:rotate(180deg);transform:rotate(180deg)}.langlist{width:auto;margin:1.6rem 0;text-align:left}.langlist-others{font-weight:700;text-align:center}.hlist ul{margin:0;padding:0}.hlist li,.hlist ul ul{display:inline}.hlist li:before{content:\" Â· \";font-weight:700}.hlist li:first-child:before{content:none}.hlist li>ul:before{content:\"\\00a0(\"}.hlist li>ul:after{content:\") \"}.langlist>ul{-webkit-column-width:11.2rem;-moz-column-width:11.2rem;column-width:11.2rem}.langlist>ul>li{display:block;line-height:1.7;-webkit-column-break-inside:avoid;page-break-inside:avoid;break-inside:avoid}.no-js .langlist>ul{text-align:center;list-style-type:circle}.no-js .langlist>ul>li{display:inline-block;padding:0 .8rem}.langlist>ul>li:before{content:none}.langlist>ul>li a{white-space:normal}@media (max-width:480px){.langlist{font-size:inherit}.langlist a{word-wrap:break-word;white-space:normal}.lang-list-container{width:auto;margin-left:.8rem;margin-right:.8rem}.bookshelf{overflow:visible}}.bookshelf{display:block;border-top:1px solid #c8ccd1;-webkit-box-shadow:0 -1px 0 #fff;-moz-box-shadow:0 -1px 0 #fff;box-shadow:0 -1px 0 #fff;text-align:center;white-space:nowrap}.bookshelf .text{background-color:#f8f9fa;position:relative;top:-11.2px;top:-1.12rem;font-weight:400;padding:0 .8rem}.bookshelf-container{display:block;overflow:visible;width:100%;height:1px;margin:2.4rem 0 1.6rem;font-size:13px;font-size:1.3rem;font-weight:700;line-height:1.5}@media (max-width:480px){.bookshelf{width:auto;left:auto}.bookshelf-container{text-align:left;width:auto}}.app-badges .footer-sidebar-content{background-color:#f8f9fa}.app-badges .footer-sidebar-text{padding-top:.8rem;padding-bottom:.8rem}.app-badges .sprite.footer-sidebar-icon{top:8px;top:.8rem}.app-badges ul{margin:0;padding:0;list-style-type:none}.app-badge{display:inline-block}.app-badge a{color:transparent}@media screen and (max-width:768px){.app-badges .footer-sidebar-content{text-align:center}.app-badges .sprite.footer-sidebar-icon{display:inline-block;position:relative;margin:0;top:-3px;left:0;vertical-align:middle;-webkit-transform:scale(.7);-moz-transform:scale(.7);-ms-transform:scale(.7);transform:scale(.7)}}.footer{overflow:hidden;max-width:100%;margin:0 auto;padding:4.16rem 1.28rem 0;font-size:13px;font-size:1.3rem}.footer:after,.footer:before{content:\" \";display:table}.footer:after{clear:both}.footer-sidebar{width:35%;float:left;clear:left;margin-bottom:3.2rem;vertical-align:top}.footer-sidebar-content{position:relative;max-width:350px;margin:0 auto}.sprite.footer-sidebar-icon{position:absolute;top:0;left:8px;left:.8rem}.footer-sidebar-text{position:relative;margin:0;padding-left:6rem;padding-right:2rem;color:#54595d}.site-license{color:#54595d;text-align:center}.site-license small:after{content:\"\\2022\";display:inline-block;font-size:13px;font-size:1.3rem;line-height:inherit;margin-left:.8rem;margin-right:.5rem}.site-license small:last-child:after{display:none}.footer hr{margin-top:1.28rem}@media screen and (max-width:768px){.footer{display:-webkit-box;display:-webkit-flex;display:-moz-box;display:-ms-flexbox;display:flex;-webkit-box-orient:vertical;-webkit-box-direction:normal;-webkit-flex-direction:column;-moz-box-orient:vertical;-moz-box-direction:normal;-ms-flex-direction:column;flex-direction:column;padding-top:1.28rem}.footer .footer-sidebar{-webkit-box-ordinal-group:1;-moz-box-ordinal-group:1;-webkit-order:1;-ms-flex-order:1;order:1}.footer .other-projects{-webkit-box-ordinal-group:2;-moz-box-ordinal-group:2;-webkit-order:2;-ms-flex-order:2;order:2}.footer .app-badges{-webkit-box-ordinal-group:3;-moz-box-ordinal-group:3;-webkit-order:3;-ms-flex-order:3;order:3}.footer hr{-webkit-box-ordinal-group:4;-moz-box-ordinal-group:4;-webkit-order:4;-ms-flex-order:4;order:4}.footer .site-license{-webkit-box-ordinal-group:5;-moz-box-ordinal-group:5;-webkit-order:5;-ms-flex-order:5;order:5}.footer-sidebar{width:100%}.sprite.footer-sidebar-icon{display:block;position:relative;left:0;margin:0 auto 1.28rem}.footer-sidebar-content{max-width:none}.footer-sidebar-text{margin:0;padding:0;text-align:center}}@media screen and (max-width:480px){.footer{padding:.96rem .64rem 1.28rem}}@media (max-width:480px){.search-container{margin-top:0;height:78px;height:7.8rem;position:absolute;top:96px;top:9.6rem;left:0;right:0;max-width:100%;width:auto;padding:0;text-align:left}.search-container label{display:none}.search-form #searchInput{max-width:40%;vertical-align:middle}.search-form .formBtn{max-width:25%;vertical-align:middle}form fieldset{margin:0;border-left:0;border-right:0}hr{margin-top:.65rem}}@media (-o-min-device-pixel-ratio:2/1),(-webkit-min-device-pixel-ratio:2),(min--moz-device-pixel-ratio:2),(min-resolution:2dppx),(min-resolution:192dpi){hr{border-bottom-width:.5px}}@supports (-webkit-marquee-style:slide){hr{border-bottom-width:1px}}.js-enabled .central-featured,.js-enabled .jsl10n{opacity:0}.jsl10n-visible .central-featured,.jsl10n-visible .jsl10n{opacity:1}@media print{body{background-color:transparent}a{color:#000!important;background:none!important;padding:0!important}a:link,a:visited{color:#520;background:transparent}img{border:0}}\n",
      "</style>\n",
      "<link rel=\"preconnect\" href=\"//upload.wikimedia.org\">\n",
      "<link rel=\"me\" href=\"https://wikis.world/@wikipedia\">\n",
      "<meta property=\"og:url\" content>\n",
      "<meta property=\"og:title\" content=\"Wikipedia, the free encyclopedia\">\n",
      "<meta property=\"og:type\" content=\"website\">\n",
      "<meta property=\"og:description\" content=\"Wikipedia is a free online encyclopedia, created and edited by volunteers around the world and hosted by the Wikimedia Foundation.\">\n",
      "<meta property=\"og:image\" content=\"https://upload.wikimedia.org/wikipedia/en/thumb/8/80/Wikipedia-logo-v2.svg/2244px-Wikipedia-logo-v2.svg.png\">\n",
      "</head>\n",
      "<body id=\"www-wikipedia-org\">\n",
      "<main>\n",
      "<div class=\"central-textlogo\">\n",
      "<img class=\"central-featured-logo\" src=\"portal/wikipedia.org/assets/img/Wikipedia-logo-v2.png\" srcset=\"portal/wikipedia.org/assets/img/Wikipedia-logo-v2@1.5x.png 1.5x, portal/wikipedia.org/assets/img/Wikipedia-logo-v2@2x.png 2x\" width=\"200\" height=\"183\" alt>\n",
      "<h1 class=\"central-textlogo-wrapper\">\n",
      "<span class=\"central-textlogo__image sprite svg-Wikipedia_wordmark\">\n",
      "Wikipedia\n",
      "</span>\n",
      "<strong class=\"jsl10n localized-slogan\" data-jsl10n=\"portal.slogan\">The Free Encyclopedia</strong>\n",
      "</h1>\n",
      "</div>\n",
      "<nav data-jsl10n=\"top-ten-nav-label\" aria-label=\"Top languages\" class=\"central-featured\" data-el-section=\"primary links\">\n",
      "<!-- #1. en.wikipedia.org - 1,823,228,000 views/day -->\n",
      "<div class=\"central-featured-lang lang1\" lang=\"en\" dir=\"ltr\">\n",
      "<a id=\"js-link-box-en\" href=\"//en.wikipedia.org/\" title=\"English â Wikipedia â The Free Encyclopedia\" class=\"link-box\" data-slogan=\"The Free Encyclopedia\">\n",
      "<strong>English</strong>\n",
      "<small>6,792,000+ <span>articles</span></small>\n",
      "</a>\n",
      "</div>\n",
      "<!-- #2. es.wikipedia.org - 210,550,000 views/day -->\n",
      "<div class=\"central-featured-lang lang2\" lang=\"es\" dir=\"ltr\">\n",
      "<a id=\"js-link-box-es\" href=\"//es.wikipedia.org/\" title=\"EspaÃ±ol â Wikipedia â La enciclopedia libre\" class=\"link-box\" data-slogan=\"La enciclopedia libre\">\n",
      "<strong>EspaÃ±ol</strong>\n",
      "<small>1.936.000+ <span>artÃ­culos</span></small>\n",
      "</a>\n",
      "</div>\n",
      "<!-- #3. ru.wikipedia.org - 209,300,000 views/day -->\n",
      "<div class=\"central-featured-lang lang3\" lang=\"ru\" dir=\"ltr\">\n",
      "<a id=\"js-link-box-ru\" href=\"//ru.wikipedia.org/\" title=\"Russkiy â ÐÐ¸ÐºÐ¸Ð¿ÐµÐ´Ð¸Ñ â Ð¡Ð²Ð¾Ð±Ð¾Ð´Ð½Ð°Ñ ÑÐ½ÑÐ¸ÐºÐ»Ð¾Ð¿ÐµÐ´Ð¸Ñ\" class=\"link-box\" data-slogan=\"Ð¡Ð²Ð¾Ð±Ð¾Ð´Ð½Ð°Ñ ÑÐ½ÑÐ¸ÐºÐ»Ð¾Ð¿ÐµÐ´Ð¸Ñ\">\n",
      "<strong>Ð ÑÑÑÐºÐ¸Ð¹</strong>\n",
      "<small>1Â 967Â 000+ <span>ÑÑÐ°ÑÐµÐ¹</span></small>\n",
      "</a>\n",
      "</div>\n",
      "<!-- #4. ja.wikipedia.org - 200,122,000 views/day -->\n",
      "<div class=\"central-featured-lang lang4\" lang=\"ja\" dir=\"ltr\">\n",
      "<a id=\"js-link-box-ja\" href=\"//ja.wikipedia.org/\" title=\"Nihongo â ã¦ã£ã­ããã£ã¢ â ããªã¼ç¾ç§äºå",
      "¸\" class=\"link-box\" data-slogan=\"ããªã¼ç¾ç§äºå",
      "¸\">\n",
      "<strong>æ¥æ¬èª</strong>\n",
      "<small>1,406,000+ <span>è¨äº</span></small>\n",
      "</a>\n",
      "</div>\n",
      "<!-- #5. de.wikipedia.org - 191,734,000 views/day -->\n",
      "<div class=\"central-featured-lang lang5\" lang=\"de\" dir=\"ltr\">\n",
      "<a id=\"js-link-box-de\" href=\"//de.wikipedia.org/\" title=\"Deutsch â Wikipedia â Die freie EnzyklopÃ¤die\" class=\"link-box\" data-slogan=\"Die freie EnzyklopÃ¤die\">\n",
      "<strong>Deutsch</strong>\n",
      "<small>2.888.000+ <span>Artikel</span></small>\n",
      "</a>\n",
      "</div>\n",
      "<!-- #6. fr.wikipedia.org - 162,027,000 views/day -->\n",
      "<div class=\"central-featured-lang lang6\" lang=\"fr\" dir=\"ltr\">\n",
      "<a id=\"js-link-box-fr\" href=\"//fr.wikipedia.org/\" title=\"franÃ§ais â WikipÃ©dia â LâencyclopÃ©die libre\" class=\"link-box\" data-slogan=\"LâencyclopÃ©die libre\">\n",
      "<strong>FranÃ§ais</strong>\n",
      "<small>2â¯596â¯000+ <span>articles</span></small>\n",
      "</a>\n",
      "</div>\n",
      "<!-- #7. it.wikipedia.org - 112,713,000 views/day -->\n",
      "<div class=\"central-featured-lang lang7\" lang=\"it\" dir=\"ltr\">\n",
      "<a id=\"js-link-box-it\" href=\"//it.wikipedia.org/\" title=\"Italiano â Wikipedia â L&#x27;enciclopedia libera\" class=\"link-box\" data-slogan=\"L&#x27;enciclopedia libera\">\n",
      "<strong>Italiano</strong>\n",
      "<small>1.851.000+ <span>voci</span></small>\n",
      "</a>\n",
      "</div>\n",
      "<!-- #8. zh.wikipedia.org - 104,521,000 views/day -->\n",
      "<div class=\"central-featured-lang lang8\" lang=\"zh\" dir=\"ltr\">\n",
      "<a id=\"js-link-box-zh\" href=\"//zh.wikipedia.org/\" title=\"ZhÅngwÃ©n â ç»´åºç¾ç§ / ç¶­åºç¾ç§ â èªç±çç¾ç§å",
      "¨ä¹¦ / èªç±çç¾ç§å",
      "¨æ¸\" class=\"link-box localize-variant\" data-slogan=\"èªç±çç¾ç§å",
      "¨ä¹¦ / èªç±çç¾ç§å",
      "¨æ¸\">\n",
      "<strong>ä¸­æ</strong>\n",
      "<small>1,407,000+ <span>æ¡ç® / æ¢ç®</span></small>\n",
      "</a>\n",
      "</div>\n",
      "<!-- #9. fa.wikipedia.org - 63,573,000 views/day -->\n",
      "<div class=\"central-featured-lang lang9\" lang=\"fa\" dir=\"rtl\">\n",
      "<a id=\"js-link-box-fa\" href=\"//fa.wikipedia.org/\" title=\"FÄrsi â ÙÛÚ©ÛâÙ¾Ø¯ÛØ§ â Ø¯Ø§ÙØ´ÙØ§Ù",
      "ÙÙ Ø¢Ø²Ø§Ø¯\" class=\"link-box\" data-slogan=\"Ø¯Ø§ÙØ´ÙØ§Ù",
      "ÙÙ Ø¢Ø²Ø§Ø¯\">\n",
      "<strong><bdi dir=\"rtl\">ÙØ§Ø±Ø³Û</bdi></strong>\n",
      "<small>Û¹Û¹Û´Ù¬Û°Û°Û°+ <span>Ù",
      "ÙØ§ÙÙ</span></small>\n",
      "</a>\n",
      "</div>\n",
      "<!-- #10. pt.wikipedia.org - 56,401,000 views/day -->\n",
      "<div class=\"central-featured-lang lang10\" lang=\"pt\" dir=\"ltr\">\n",
      "<a id=\"js-link-box-pt\" href=\"//pt.wikipedia.org/\" title=\"PortuguÃªs â WikipÃ©dia â A enciclopÃ©dia livre\" class=\"link-box\" data-slogan=\"A enciclopÃ©dia livre\">\n",
      "<strong>PortuguÃªs</strong>\n",
      "<small>1.120.000+ <span>artigos</span></small>\n",
      "</a>\n",
      "</div>\n",
      "</nav>\n",
      "<div role=\"search\" class=\"search-container\">\n",
      "<form class=\"pure-form\" id=\"search-form\" action=\"//www.wikipedia.org/search-redirect.php\" data-el-section=\"search\">\n",
      "<fieldset>\n",
      "<input type=\"hidden\" name=\"family\" value=\"Wikipedia\">\n",
      "<input type=\"hidden\" id=\"hiddenLanguageInput\" name=\"language\" value=\"en\">\n",
      "<div class=\"search-input\" id=\"search-input\">\n",
      "<label for=\"searchInput\" class=\"screen-reader-text\" data-jsl10n=\"portal.search-input-label\">Search Wikipedia</label>\n",
      "<input id=\"searchInput\" name=\"search\" type=\"search\" size=\"20\" autofocus=\"autofocus\" accesskey=\"F\" dir=\"auto\" autocomplete=\"off\">\n",
      "<div class=\"styled-select no-js\">\n",
      "<div class=\"hide-arrow\">\n",
      "<select id=\"searchLanguage\" name=\"language\">\n",
      "<option value=\"af\" lang=\"af\">Afrikaans</option><!-- Afrikaans -->\n",
      "<option value=\"pl\" lang=\"pl\">Polski</option>\n",
      "<option value=\"ar\" lang=\"ar\">Ø§ÙØ¹Ø±Ø¨ÙØ©</option><!-- Al-Ê¿ArabÄ«yah -->\n",
      "<option value=\"ast\" lang=\"ast\">Asturianu</option>\n",
      "<option value=\"az\" lang=\"az\">AzÉrbaycanca</option>\n",
      "<option value=\"bg\" lang=\"bg\">ÐÑÐ»Ð³Ð°ÑÑÐºÐ¸</option><!-- BÇlgarski -->\n",
      "<option value=\"bn\" lang=\"bn\">à¦¬à¦¾à¦à¦²à¦¾</option><!-- Bangla -->\n",
      "<option value=\"be\" lang=\"be\">ÐÐµÐ»Ð°ÑÑÑÐºÐ°Ñ</option><!-- Belaruskaya -->\n",
      "<option value=\"ca\" lang=\"ca\">CatalÃ </option>\n",
      "<option value=\"cs\" lang=\"cs\">ÄeÅ¡tina</option><!-- ÄeÅ¡tina -->\n",
      "<option value=\"cy\" lang=\"cy\">Cymraeg</option><!-- Cymraeg -->\n",
      "<option value=\"da\" lang=\"da\">Dansk</option>\n",
      "<option value=\"de\" lang=\"de\">Deutsch</option>\n",
      "<option value=\"et\" lang=\"et\">Eesti</option>\n",
      "<option value=\"el\" lang=\"el\">ÎÎ»Î»Î·Î½Î¹ÎºÎ¬</option><!-- EllÄ«nikÃ¡ -->\n",
      "<option value=\"en\" lang=\"en\" selected=selected>English</option><!-- English -->\n",
      "<option value=\"es\" lang=\"es\">EspaÃ±ol</option>\n",
      "<option value=\"eo\" lang=\"eo\">Esperanto</option>\n",
      "<option value=\"eu\" lang=\"eu\">Euskara</option>\n",
      "<option value=\"fa\" lang=\"fa\">ÙØ§Ø±Ø³Û</option><!-- FÄrsi -->\n",
      "<option value=\"fr\" lang=\"fr\">FranÃ§ais</option><!-- franÃ§ais -->\n",
      "<option value=\"gl\" lang=\"gl\">Galego</option>\n",
      "<option value=\"ko\" lang=\"ko\">íêµ­ì´</option><!-- Hangugeo -->\n",
      "<option value=\"hi\" lang=\"hi\">à¤¹à¤¿à¤¨à¥à¤¦à¥</option><!-- HindÄ« -->\n",
      "<option value=\"hr\" lang=\"hr\">Hrvatski</option>\n",
      "<option value=\"id\" lang=\"id\">Bahasa Indonesia</option>\n",
      "<option value=\"it\" lang=\"it\">Italiano</option>\n",
      "<option value=\"he\" lang=\"he\">×¢××¨××ª</option><!-- Ivrit -->\n",
      "<option value=\"ka\" lang=\"ka\">á¥áá áá£áá</option><!-- Kartuli -->\n",
      "<option value=\"lld\" lang=\"lld\">Ladin</option>\n",
      "<option value=\"la\" lang=\"la\">Latina</option>\n",
      "<option value=\"lv\" lang=\"lv\">LatvieÅ¡u</option>\n",
      "<option value=\"lt\" lang=\"lt\">LietuviÅ³</option>\n",
      "<option value=\"hu\" lang=\"hu\">Magyar</option>\n",
      "<option value=\"mk\" lang=\"mk\">ÐÐ°ÐºÐµÐ´Ð¾Ð½ÑÐºÐ¸</option><!-- Makedonski -->\n",
      "<option value=\"arz\" lang=\"arz\">Ù",
      "ØµØ±Ù</option><!-- Maá¹£rÄ« -->\n",
      "<option value=\"ms\" lang=\"ms\">Bahasa Melayu</option>\n",
      "<option value=\"min\" lang=\"min\">Bahaso Minangkabau</option>\n",
      "<option value=\"nl\" lang=\"nl\">Nederlands</option>\n",
      "<option value=\"ja\" lang=\"ja\">æ¥æ¬èª</option><!-- Nihongo -->\n",
      "<option value=\"no\" lang=\"nb\">Norsk (bokmÃ¥l)</option>\n",
      "<option value=\"nn\" lang=\"nn\">Norsk (nynorsk)</option>\n",
      "<option value=\"uz\" lang=\"uz\">OÊ»zbekcha / ÐÐ·Ð±ÐµÐºÑÐ°</option><!-- OÊ»zbekcha -->\n",
      "<option value=\"pt\" lang=\"pt\">PortuguÃªs</option>\n",
      "<option value=\"kk\" lang=\"kk\">ÒÐ°Ð·Ð°ÒÑÐ° / QazaqÅa / ÙØ§Ø²Ø§ÙØ´Ø§</option>\n",
      "<option value=\"ro\" lang=\"ro\">RomÃ¢nÄ</option><!-- RomÃ¢nÄ -->\n",
      "<option value=\"simple\" lang=\"en\">Simple English</option>\n",
      "<option value=\"ceb\" lang=\"ceb\">Sinugboanong Binisaya</option>\n",
      "<option value=\"sk\" lang=\"sk\">SlovenÄina</option>\n",
      "<option value=\"sl\" lang=\"sl\">SlovenÅ¡Äina</option><!-- slovenÅ¡Äina -->\n",
      "<option value=\"sr\" lang=\"sr\">Ð¡ÑÐ¿ÑÐºÐ¸ / Srpski</option>\n",
      "<option value=\"sh\" lang=\"sh\">Srpskohrvatski / Ð¡ÑÐ¿ÑÐºÐ¾Ñ",
      "ÑÐ²Ð°ÑÑÐºÐ¸</option>\n",
      "<option value=\"fi\" lang=\"fi\">Suomi</option><!-- suomi -->\n",
      "<option value=\"sv\" lang=\"sv\">Svenska</option>\n",
      "<option value=\"ta\" lang=\"ta\">à®¤à®®à®¿à®´à¯</option><!-- Tamiá¸» -->\n",
      "<option value=\"tt\" lang=\"tt\">Ð¢Ð°ÑÐ°ÑÑÐ° / TatarÃ§a</option>\n",
      "<option value=\"th\" lang=\"th\">à¸ à¸²à¸©à¸²à¹à¸à¸¢</option><!-- Phasa Thai -->\n",
      "<option value=\"tg\" lang=\"tg\">Ð¢Ð¾Ò·Ð¸ÐºÓ£</option><!-- TojikÄ« -->\n",
      "<option value=\"azb\" lang=\"azb\">ØªÛØ±Ú©Ø¬Ù</option><!-- TÃ¼rkce -->\n",
      "<option value=\"tr\" lang=\"tr\">TÃ¼rkÃ§e</option><!-- TÃ¼rkÃ§e -->\n",
      "<option value=\"uk\" lang=\"uk\">Ð£ÐºÑÐ°ÑÐ½ÑÑÐºÐ°</option><!-- Ukrayinsâka -->\n",
      "<option value=\"ur\" lang=\"ur\">Ø§Ø±Ø¯Ù</option><!-- Urdu -->\n",
      "<option value=\"vi\" lang=\"vi\">Tiáº¿ng Viá»t</option>\n",
      "<option value=\"war\" lang=\"war\">Winaray</option>\n",
      "<option value=\"zh\" lang=\"zh\">ä¸­æ</option><!-- ZhÅngwÃ©n -->\n",
      "<option value=\"ru\" lang=\"ru\">Ð ÑÑÑÐºÐ¸Ð¹</option><!-- Russkiy -->\n",
      "<option value=\"ce\" lang=\"ce\">ÐÐ¾Ñ",
      "ÑÐ¸Ð¹Ð½</option><!-- ÐÐ¾Ñ",
      "ÑÐ¸Ð¹Ð½ -->\n",
      "<option value=\"hy\" lang=\"hy\">ÕÕ¡ÕµÕ¥ÖÕ¥Õ¶</option><!-- Hayeren -->\n",
      "<option value=\"my\" lang=\"my\">áá¼ááºáá¬áá¬áá¬</option><!-- Myanmarsar -->\n",
      "<option value=\"yue\" lang=\"yue\">ç²µèª</option>\n",
      "<option value=\"nan\" lang=\"nan\">é©åèª / BÃ¢n-lÃ¢m-gÃº</option>\n",
      "</select>\n",
      "<div class=\"styled-select-active-helper\"></div>\n",
      "</div>\n",
      "<i class=\"sprite svg-arrow-down\"></i>\n",
      "</div>\n",
      "</div>\n",
      "<button class=\"pure-button pure-button-primary-progressive\" type=\"submit\">\n",
      "<i class=\"sprite svg-search-icon\" data-jsl10n=\"search-input-button\">Search</i>\n",
      "</button>\n",
      "<input type=\"hidden\" value=\"Go\" name=\"go\">\n",
      "</fieldset>\n",
      "</form>\n",
      "</div>\n",
      "<nav data-jsl10n=\"all-languages-nav-label\" aria-label=\"All languages\">\n",
      "<div class=\"lang-list-button-wrapper\">\n",
      "<button id=\"js-lang-list-button\" aria-expanded=\"false\" aria-controls=\"js-lang-lists\" class=\"lang-list-button\">\n",
      "<i class=\"sprite svg-language-icon\"></i>\n",
      "<span class=\"lang-list-button-text jsl10n\" data-jsl10n=\"portal.language-button-text\">Read Wikipedia in your language </span>\n",
      "<i class=\"sprite svg-arrow-down-blue\"></i>\n",
      "</button>\n",
      "</div>\n",
      "<div class=\"lang-list-border\"></div>\n",
      "<div class=\"lang-list-container\">\n",
      "<div id=\"js-lang-lists\" class=\"lang-list-content\">\n",
      "<h2 class=\"bookshelf-container\">\n",
      "<span class=\"bookshelf\">\n",
      "<span class=\"text\">\n",
      "<bdi dir=\"ltr\">\n",
      "1,000,000+\n",
      "</bdi>\n",
      "<span class=\"jsl10n\" data-jsl10n=\"entries\">\n",
      "articles\n",
      "</span>\n",
      "</span>\n",
      "</span>\n",
      "</h2>\n",
      "<div class=\"langlist langlist-large hlist\" data-el-section=\"secondary links\">\n",
      "<ul>\n",
      "<li><a href=\"//pl.wikipedia.org/\" lang=\"pl\">Polski</a></li>\n",
      "<li><a href=\"//ar.wikipedia.org/\" lang=\"ar\" title=\"Al-Ê¿ArabÄ«yah\"><bdi dir=\"rtl\">Ø§ÙØ¹Ø±Ø¨ÙØ©</bdi></a></li>\n",
      "<li><a href=\"//de.wikipedia.org/\" lang=\"de\">Deutsch</a></li>\n",
      "<li><a href=\"//en.wikipedia.org/\" lang=\"en\" title=\"English\">English</a></li>\n",
      "<li><a href=\"//es.wikipedia.org/\" lang=\"es\">EspaÃ±ol</a></li>\n",
      "<li><a href=\"//fr.wikipedia.org/\" lang=\"fr\" title=\"franÃ§ais\">FranÃ§ais</a></li>\n",
      "<li><a href=\"//it.wikipedia.org/\" lang=\"it\">Italiano</a></li>\n",
      "<li><a href=\"//arz.wikipedia.org/\" lang=\"arz\" title=\"Maá¹£rÄ«\"><bdi dir=\"rtl\">Ù",
      "ØµØ±Ù</bdi></a></li>\n",
      "<li><a href=\"//nl.wikipedia.org/\" lang=\"nl\">Nederlands</a></li>\n",
      "<li><a href=\"//ja.wikipedia.org/\" lang=\"ja\" title=\"Nihongo\">æ¥æ¬èª</a></li>\n",
      "<li><a href=\"//pt.wikipedia.org/\" lang=\"pt\">PortuguÃªs</a></li>\n",
      "<li><a href=\"//ceb.wikipedia.org/\" lang=\"ceb\">Sinugboanong Binisaya</a></li>\n",
      "<li><a href=\"//sv.wikipedia.org/\" lang=\"sv\">Svenska</a></li>\n",
      "<li><a href=\"//uk.wikipedia.org/\" lang=\"uk\" title=\"Ukrayinsâka\">Ð£ÐºÑÐ°ÑÐ½ÑÑÐºÐ°</a></li>\n",
      "<li><a href=\"//vi.wikipedia.org/\" lang=\"vi\">Tiáº¿ng Viá»t</a></li>\n",
      "<li><a href=\"//war.wikipedia.org/\" lang=\"war\">Winaray</a></li>\n",
      "<li><a href=\"//zh.wikipedia.org/\" lang=\"zh\" title=\"ZhÅngwÃ©n\">ä¸­æ</a></li>\n",
      "<li><a href=\"//ru.wikipedia.org/\" lang=\"ru\" title=\"Russkiy\">Ð ÑÑÑÐºÐ¸Ð¹</a></li>\n",
      "</ul>\n",
      "</div>\n",
      "<h2 class=\"bookshelf-container\">\n",
      "<span class=\"bookshelf\">\n",
      "<span class=\"text\">\n",
      "<bdi dir=\"ltr\">\n",
      "100,000+\n",
      "</bdi>\n",
      "<span class=\"jsl10n\" data-jsl10n=\"portal.entries\">\n",
      "articles\n",
      "</span>\n",
      "</span>\n",
      "</span>\n",
      "</h2>\n",
      "<div class=\"langlist langlist-large hlist\" data-el-section=\"secondary links\">\n",
      "<ul>\n",
      "<li><a href=\"//af.wikipedia.org/\" lang=\"af\" title=\"Afrikaans\">Afrikaans</a></li>\n",
      "<li><a href=\"//ast.wikipedia.org/\" lang=\"ast\">Asturianu</a></li>\n",
      "<li><a href=\"//az.wikipedia.org/\" lang=\"az\">AzÉrbaycanca</a></li>\n",
      "<li><a href=\"//bg.wikipedia.org/\" lang=\"bg\" title=\"BÇlgarski\">ÐÑÐ»Ð³Ð°ÑÑÐºÐ¸</a></li>\n",
      "<li><a href=\"//bn.wikipedia.org/\" lang=\"bn\" title=\"Bangla\">à¦¬à¦¾à¦à¦²à¦¾</a></li>\n",
      "<li><a href=\"//be.wikipedia.org/\" lang=\"be\" title=\"Belaruskaya\">ÐÐµÐ»Ð°ÑÑÑÐºÐ°Ñ</a></li>\n",
      "<li><a href=\"//ca.wikipedia.org/\" lang=\"ca\">CatalÃ </a></li>\n",
      "<li><a href=\"//cs.wikipedia.org/\" lang=\"cs\" title=\"ÄeÅ¡tina\">ÄeÅ¡tina</a></li>\n",
      "<li><a href=\"//cy.wikipedia.org/\" lang=\"cy\" title=\"Cymraeg\">Cymraeg</a></li>\n",
      "<li><a href=\"//da.wikipedia.org/\" lang=\"da\">Dansk</a></li>\n",
      "<li><a href=\"//et.wikipedia.org/\" lang=\"et\">Eesti</a></li>\n",
      "<li><a href=\"//el.wikipedia.org/\" lang=\"el\" title=\"EllÄ«nikÃ¡\">ÎÎ»Î»Î·Î½Î¹ÎºÎ¬</a></li>\n",
      "<li><a href=\"//eo.wikipedia.org/\" lang=\"eo\">Esperanto</a></li>\n",
      "<li><a href=\"//eu.wikipedia.org/\" lang=\"eu\">Euskara</a></li>\n",
      "<li><a href=\"//fa.wikipedia.org/\" lang=\"fa\" title=\"FÄrsi\"><bdi dir=\"rtl\">ÙØ§Ø±Ø³Û</bdi></a></li>\n",
      "<li><a href=\"//gl.wikipedia.org/\" lang=\"gl\">Galego</a></li>\n",
      "<li><a href=\"//ko.wikipedia.org/\" lang=\"ko\" title=\"Hangugeo\">íêµ­ì´</a></li>\n",
      "<li><a href=\"//hi.wikipedia.org/\" lang=\"hi\" title=\"HindÄ«\">à¤¹à¤¿à¤¨à¥à¤¦à¥</a></li>\n",
      "<li><a href=\"//hr.wikipedia.org/\" lang=\"hr\">Hrvatski</a></li>\n",
      "<li><a href=\"//id.wikipedia.org/\" lang=\"id\">Bahasa Indonesia</a></li>\n",
      "<li><a href=\"//he.wikipedia.org/\" lang=\"he\" title=\"Ivrit\"><bdi dir=\"rtl\">×¢××¨××ª</bdi></a></li>\n",
      "<li><a href=\"//ka.wikipedia.org/\" lang=\"ka\" title=\"Kartuli\">á¥áá áá£áá</a></li>\n",
      "<li><a href=\"//lld.wikipedia.org/\" lang=\"lld\">Ladin</a></li>\n",
      "<li><a href=\"//la.wikipedia.org/\" lang=\"la\">Latina</a></li>\n",
      "<li><a href=\"//lv.wikipedia.org/\" lang=\"lv\">LatvieÅ¡u</a></li>\n",
      "<li><a href=\"//lt.wikipedia.org/\" lang=\"lt\">LietuviÅ³</a></li>\n",
      "<li><a href=\"//hu.wikipedia.org/\" lang=\"hu\">Magyar</a></li>\n",
      "<li><a href=\"//mk.wikipedia.org/\" lang=\"mk\" title=\"Makedonski\">ÐÐ°ÐºÐµÐ´Ð¾Ð½ÑÐºÐ¸</a></li>\n",
      "<li><a href=\"//ms.wikipedia.org/\" lang=\"ms\">Bahasa Melayu</a></li>\n",
      "<li><a href=\"//min.wikipedia.org/\" lang=\"min\">Bahaso Minangkabau</a></li>\n",
      "<li lang=\"no\">Norsk<ul><li><a href=\"//no.wikipedia.org/\" lang=\"nb\">bokmÃ¥l</a></li><li><a href=\"//nn.wikipedia.org/\" lang=\"nn\">nynorsk</a></li></ul></li>\n",
      "<li><a href=\"//uz.wikipedia.org/\" lang=\"uz\" title=\"OÊ»zbekcha\">OÊ»zbekcha / ÐÐ·Ð±ÐµÐºÑÐ°</a></li>\n",
      "<li><a href=\"//kk.wikipedia.org/\" lang=\"kk\"><span lang=\"kk-Cyrl\">ÒÐ°Ð·Ð°ÒÑÐ°</span> / <span lang=\"kk-Latn\">QazaqÅa</span> / <bdi lang=\"kk-Arab\" dir=\"rtl\">ÙØ§Ø²Ø§ÙØ´Ø§</bdi></a></li>\n",
      "<li><a href=\"//ro.wikipedia.org/\" lang=\"ro\" title=\"RomÃ¢nÄ\">RomÃ¢nÄ</a></li>\n",
      "<li><a href=\"//simple.wikipedia.org/\" lang=\"en\">Simple English</a></li>\n",
      "<li><a href=\"//sk.wikipedia.org/\" lang=\"sk\">SlovenÄina</a></li>\n",
      "<li><a href=\"//sl.wikipedia.org/\" lang=\"sl\" title=\"slovenÅ¡Äina\">SlovenÅ¡Äina</a></li>\n",
      "<li><a href=\"//sr.wikipedia.org/\" lang=\"sr\">Ð¡ÑÐ¿ÑÐºÐ¸ / Srpski</a></li>\n",
      "<li><a href=\"//sh.wikipedia.org/\" lang=\"sh\">Srpskohrvatski / Ð¡ÑÐ¿ÑÐºÐ¾Ñ",
      "ÑÐ²Ð°ÑÑÐºÐ¸</a></li>\n",
      "<li><a href=\"//fi.wikipedia.org/\" lang=\"fi\" title=\"suomi\">Suomi</a></li>\n",
      "<li><a href=\"//ta.wikipedia.org/\" lang=\"ta\" title=\"Tamiá¸»\">à®¤à®®à®¿à®´à¯</a></li>\n",
      "<li><a href=\"//tt.wikipedia.org/\" lang=\"tt\">Ð¢Ð°ÑÐ°ÑÑÐ° / TatarÃ§a</a></li>\n",
      "<li><a href=\"//th.wikipedia.org/\" lang=\"th\" title=\"Phasa Thai\">à¸ à¸²à¸©à¸²à¹à¸à¸¢</a></li>\n",
      "<li><a href=\"//tg.wikipedia.org/\" lang=\"tg\" title=\"TojikÄ«\">Ð¢Ð¾Ò·Ð¸ÐºÓ£</a></li>\n",
      "<li><a href=\"//azb.wikipedia.org/\" lang=\"azb\" title=\"TÃ¼rkce\"><bdi dir=\"rtl\">ØªÛØ±Ú©Ø¬Ù</bdi></a></li>\n",
      "<li><a href=\"//tr.wikipedia.org/\" lang=\"tr\" title=\"TÃ¼rkÃ§e\">TÃ¼rkÃ§e</a></li>\n",
      "<li><a href=\"//ur.wikipedia.org/\" lang=\"ur\" title=\"Urdu\"><bdi dir=\"rtl\">Ø§Ø±Ø¯Ù</bdi></a></li>\n",
      "<li><a href=\"//ce.wikipedia.org/\" lang=\"ce\" title=\"ÐÐ¾Ñ",
      "ÑÐ¸Ð¹Ð½\">ÐÐ¾Ñ",
      "ÑÐ¸Ð¹Ð½</a></li>\n",
      "<li><a href=\"//hy.wikipedia.org/\" lang=\"hy\" title=\"Hayeren\">ÕÕ¡ÕµÕ¥ÖÕ¥Õ¶</a></li>\n",
      "<li><a href=\"//my.wikipedia.org/\" lang=\"my\" title=\"Myanmarsar\">áá¼ááºáá¬áá¬áá¬</a></li>\n",
      "<li><a href=\"//zh-yue.wikipedia.org/\" lang=\"yue\">ç²µèª</a></li>\n",
      "<li><a href=\"//zh-min-nan.wikipedia.org/\" lang=\"nan\">é©åèª / BÃ¢n-lÃ¢m-gÃº</a></li>\n",
      "</ul>\n",
      "</div>\n",
      "<h2 class=\"bookshelf-container\">\n",
      "<span class=\"bookshelf\">\n",
      "<span class=\"text\">\n",
      "<bdi dir=\"ltr\">\n",
      "10,000+\n",
      "</bdi>\n",
      "<span class=\"jsl10n\" data-jsl10n=\"portal.entries\">\n",
      "articles\n",
      "</span>\n",
      "</span>\n",
      "</span>\n",
      "</h2>\n",
      "<div class=\"langlist hlist\" data-el-section=\"secondary links\">\n",
      "<ul>\n",
      "<li><a href=\"//ace.wikipedia.org/\" lang=\"ace\">Bahsa AcÃ¨h</a></li>\n",
      "<li><a href=\"//als.wikipedia.org/\" lang=\"gsw\">Alemannisch</a></li>\n",
      "<li><a href=\"//am.wikipedia.org/\" lang=\"am\" title=\"ÄmariÃ±Ã±Ä\">á áá­á</a></li>\n",
      "<li><a href=\"//an.wikipedia.org/\" lang=\"an\">AragonÃ©s</a></li>\n",
      "<li><a href=\"//hyw.wikipedia.org/\" lang=\"hyw\" title=\"Arevmdahayeren\">Ô±ÖÕ¥ÖÕ´Õ¿Õ¡Õ°Õ¡ÕµÕ¥ÖÕ§Õ¶</a></li>\n",
      "<li><a href=\"//gor.wikipedia.org/\" lang=\"gor\">Bahasa Hulontalo</a></li>\n",
      "<li><a href=\"//ban.wikipedia.org/\" lang=\"ban\" title=\"Basa Bali\">Basa Bali</a></li>\n",
      "<li><a href=\"//bjn.wikipedia.org/\" lang=\"bjn\">Bahasa Banjar</a></li>\n",
      "<li><a href=\"//map-bms.wikipedia.org/\" lang=\"map-x-bms\">Basa Banyumasan</a></li>\n",
      "<li><a href=\"//ba.wikipedia.org/\" lang=\"ba\" title=\"BaÅqortsa\">ÐÐ°ÑÒ¡Ð¾ÑÑÑÐ°</a></li>\n",
      "<li><a href=\"//be-tarask.wikipedia.org/\" lang=\"be-tarask\" title=\"Bielaruskaja (taraÅ¡kievica)\">ÐÐµÐ»Ð°ÑÑÑÐºÐ°Ñ (ÑÐ°ÑÐ°ÑÐºÐµÐ²ÑÑÐ°)</a></li>\n",
      "<li><a href=\"//bcl.wikipedia.org/\" lang=\"bcl\">Bikol Central</a></li>\n",
      "<li><a href=\"//bpy.wikipedia.org/\" lang=\"bpy\" title=\"Bishnupriya Manipuri\">à¦¬à¦¿à¦·à§à¦£à§à¦ªà§à¦°à¦¿à¦¯à¦¼à¦¾ à¦®à¦£à¦¿à¦ªà§à¦°à§</a></li>\n",
      "<li><a href=\"//bar.wikipedia.org/\" lang=\"bar\">Boarisch</a></li>\n",
      "<li><a href=\"//bs.wikipedia.org/\" lang=\"bs\">Bosanski</a></li>\n",
      "<li><a href=\"//br.wikipedia.org/\" lang=\"br\">Brezhoneg</a></li>\n",
      "<li><a href=\"//cv.wikipedia.org/\" lang=\"cv\" title=\"ÄÄvaÅ¡la\">Ð§ÓÐ²Ð°ÑÐ»Ð°</a></li>\n",
      "<li><a href=\"//nv.wikipedia.org/\" lang=\"nv\">DinÃ© Bizaad</a></li>\n",
      "<li><a href=\"//eml.wikipedia.org/\" lang=\"roa-x-eml\">EmigliÃ nâRumagnÃ²l</a></li>\n",
      "<li><a href=\"//hif.wikipedia.org/\" lang=\"hif\">Fiji Hindi</a></li>\n",
      "<li><a href=\"//fo.wikipedia.org/\" lang=\"fo\">FÃ¸royskt</a></li>\n",
      "<li><a href=\"//fy.wikipedia.org/\" lang=\"fy\">Frysk</a></li>\n",
      "<li><a href=\"//ga.wikipedia.org/\" lang=\"ga\">Gaeilge</a></li>\n",
      "<li><a href=\"//gd.wikipedia.org/\" lang=\"gd\">GÃ idhlig</a></li>\n",
      "<li><a href=\"//gu.wikipedia.org/\" lang=\"gu\" title=\"Gujarati\">àªà«àªàª°àª¾àª¤à«</a></li>\n",
      "<li><a href=\"//hak.wikipedia.org/\" lang=\"hak\">Hak-kÃ¢-ngÃ® / å®¢å®¶èª</a></li>\n",
      "<li><a href=\"//ha.wikipedia.org/\" lang=\"ha\" title=\"Hausa\">Hausa</a></li>\n",
      "<li><a href=\"//hsb.wikipedia.org/\" lang=\"hsb\">Hornjoserbsce</a></li>\n",
      "<li><a href=\"//io.wikipedia.org/\" lang=\"io\" title=\"Ido\">Ido</a></li>\n",
      "<li><a href=\"//ig.wikipedia.org/\" lang=\"ig\">Igbo</a></li>\n",
      "<li><a href=\"//ilo.wikipedia.org/\" lang=\"ilo\">Ilokano</a></li>\n",
      "<li><a href=\"//ia.wikipedia.org/\" lang=\"ia\">Interlingua</a></li>\n",
      "<li><a href=\"//ie.wikipedia.org/\" lang=\"ie\">Interlingue</a></li>\n",
      "<li><a href=\"//os.wikipedia.org/\" lang=\"os\" title=\"Iron\">ÐÑÐ¾Ð½</a></li>\n",
      "<li><a href=\"//is.wikipedia.org/\" lang=\"is\">Ãslenska</a></li>\n",
      "<li><a href=\"//jv.wikipedia.org/\" lang=\"jv\" title=\"Jawa\">Jawa</a></li>\n",
      "<li><a href=\"//kn.wikipedia.org/\" lang=\"kn\" title=\"Kannada\">à²à²¨à³à²¨à²¡</a></li>\n",
      "<li><a href=\"//km.wikipedia.org/\" lang=\"km\" title=\"PhÃ©asa KhmÃ©r\">áá¶áá¶ááááá</a></li>\n",
      "<li><a href=\"//avk.wikipedia.org/\" lang=\"avk\">Kotava</a></li>\n",
      "<li><a href=\"//ht.wikipedia.org/\" lang=\"ht\">KreyÃ²l Ayisyen</a></li>\n",
      "<li><a href=\"//ku.wikipedia.org/\" lang=\"ku\"><span lang=\"ku-Latn\">KurdÃ®</span> / <bdi lang=\"ku-Arab\" dir=\"rtl\">ÙÙØ±Ø¯Û</bdi></a></li>\n",
      "<li><a href=\"//ckb.wikipedia.org/\" lang=\"ckb\" title=\"KurdÃ®y NawendÃ®\"><bdi dir=\"rtl\">Ú©ÙØ±Ø¯ÛÛ ÙØ§ÙÛÙØ¯Û</bdi></a></li>\n",
      "<li><a href=\"//ky.wikipedia.org/\" lang=\"ky\" title=\"KyrgyzÄa\">ÐÑÑÐ³ÑÐ·ÑÐ°</a></li>\n",
      "<li><a href=\"//mrj.wikipedia.org/\" lang=\"mjr\" title=\"Kyryk Mary\">ÐÑÑÑÐº Ð¼Ð°ÑÑ</a></li>\n",
      "<li><a href=\"//lb.wikipedia.org/\" lang=\"lb\">LÃ«tzebuergesch</a></li>\n",
      "<li><a href=\"//lij.wikipedia.org/\" lang=\"lij\">LÃ¬gure</a></li>\n",
      "<li><a href=\"//li.wikipedia.org/\" lang=\"li\">Limburgs</a></li>\n",
      "<li><a href=\"//lmo.wikipedia.org/\" lang=\"lmo\">Lombard</a></li>\n",
      "<li><a href=\"//mai.wikipedia.org/\" lang=\"mai\" title=\"MaithilÄ«\">à¤®à¥à¤¥à¤¿à¤²à¥</a></li>\n",
      "<li><a href=\"//mg.wikipedia.org/\" lang=\"mg\">Malagasy</a></li>\n",
      "<li><a href=\"//ml.wikipedia.org/\" lang=\"ml\" title=\"Malayalam\">à´®à´²à´¯à´¾à´³à´</a></li>\n",
      "<li><a href=\"//mr.wikipedia.org/\" lang=\"mr\" title=\"Marathi\">à¤®à¤°à¤¾à¤ à¥</a></li>\n",
      "<li><a href=\"//xmf.wikipedia.org/\" lang=\"xmf\" title=\"Margaluri\">ááá áááá£á á</a></li>\n",
      "<li><a href=\"//mzn.wikipedia.org/\" lang=\"mzn\" title=\"MÃ¤zeruni\"><bdi dir=\"rtl\">Ù",
      "Ø§Ø²ÙØ±ÙÙÛ</bdi></a></li>\n",
      "<li><a href=\"//cdo.wikipedia.org/\" lang=\"cdo\" title=\"Ming-deng-ngu\">MÃ¬ng-dÄÌ¤ng-ngá¹³Ì / é©æ±èª</a></li>\n",
      "<li><a href=\"//mn.wikipedia.org/\" lang=\"mn\" title=\"Mongol\">ÐÐ¾Ð½Ð³Ð¾Ð»</a></li>\n",
      "<li><a href=\"//nap.wikipedia.org/\" lang=\"nap\">Napulitano</a></li>\n",
      "<li><a href=\"//new.wikipedia.org/\" lang=\"new\" title=\"Nepal Bhasa\">à¤¨à¥à¤ªà¤¾à¤² à¤­à¤¾à¤·à¤¾</a></li>\n",
      "<li><a href=\"//ne.wikipedia.org/\" lang=\"ne\" title=\"NepÄlÄ«\">à¤¨à¥à¤ªà¤¾à¤²à¥</a></li>\n",
      "<li><a href=\"//frr.wikipedia.org/\" lang=\"frr\">Nordfriisk</a></li>\n",
      "<li><a href=\"//oc.wikipedia.org/\" lang=\"oc\">Occitan</a></li>\n",
      "<li><a href=\"//mhr.wikipedia.org/\" lang=\"mhr\" title=\"Olyk Marij\">ÐÐ»ÑÐº Ð¼Ð°ÑÐ¸Ð¹</a></li>\n",
      "<li><a href=\"//or.wikipedia.org/\" lang=\"or\" title=\"Oá¹iÄ\">à¬à¬¡à¬¿à¬¼à¬</a></li>\n",
      "<li><a href=\"//as.wikipedia.org/\" lang=\"as\" title=\"ÃxÃ´miya\">à¦",
      "à¦¸à¦®à§à¦¯à¦¾à¦¼</a></li>\n",
      "<li><a href=\"//pa.wikipedia.org/\" lang=\"pa\" title=\"PaÃ±jÄbÄ« (GurmukhÄ«)\">à¨ªà©°à¨à¨¾à¨¬à©</a></li>\n",
      "<li><a href=\"//pnb.wikipedia.org/\" lang=\"pnb\" title=\"PaÃ±jÄbÄ« (ShÄhmukhÄ«)\"><bdi dir=\"rtl\">Ù¾ÙØ¬Ø§Ø¨Û (Ø´Ø§Û Ù",
      "Ú©Ú¾Û)</bdi></a></li>\n",
      "<li><a href=\"//ps.wikipedia.org/\" lang=\"ps\" title=\"PaÊto\"><bdi dir=\"rtl\">Ù¾ÚØªÙ</bdi></a></li>\n",
      "<li><a href=\"//pms.wikipedia.org/\" lang=\"pms\">PiemontÃ¨is</a></li>\n",
      "<li><a href=\"//nds.wikipedia.org/\" lang=\"nds\">PlattdÃ¼Ã¼tsch</a></li>\n",
      "<li><a href=\"//crh.wikipedia.org/\" lang=\"crh\">QÄ±rÄ±mtatarca</a></li>\n",
      "<li><a href=\"//qu.wikipedia.org/\" lang=\"qu\">Runa Simi</a></li>\n",
      "<li><a href=\"//sa.wikipedia.org/\" lang=\"sa\" title=\"Saá¹ská¹tam\">à¤¸à¤à¤¸à¥à¤à¥à¤¤à¤®à¥</a></li>\n",
      "<li><a href=\"//sat.wikipedia.org/\" lang=\"sat\" title=\"Santali\">á±¥á±á±±á±á±á±²á±¤</a></li>\n",
      "<li><a href=\"//sah.wikipedia.org/\" lang=\"sah\" title=\"Saxa Tyla\">Ð¡Ð°Ñ",
      "Ð° Ð¢ÑÐ»Ð°</a></li>\n",
      "<li><a href=\"//sco.wikipedia.org/\" lang=\"sco\">Scots</a></li>\n",
      "<li><a href=\"//sn.wikipedia.org/\" lang=\"sn\">ChiShona</a></li>\n",
      "<li><a href=\"//sq.wikipedia.org/\" lang=\"sq\">Shqip</a></li>\n",
      "<li><a href=\"//scn.wikipedia.org/\" lang=\"scn\">Sicilianu</a></li>\n",
      "<li><a href=\"//si.wikipedia.org/\" lang=\"si\" title=\"Siá¹hala\">à·à·à¶à·à¶½</a></li>\n",
      "<li><a href=\"//sd.wikipedia.org/\" lang=\"sd\" title=\"SindhÄ«\"><bdi dir=\"rtl\">Ø³ÙÚÙ</bdi></a></li>\n",
      "<li><a href=\"//szl.wikipedia.org/\" lang=\"szl\">ÅlÅ¯nski</a></li>\n",
      "<li><a href=\"//su.wikipedia.org/\" lang=\"su\">Basa Sunda</a></li>\n",
      "<li><a href=\"//sw.wikipedia.org/\" lang=\"sw\">Kiswahili</a></li>\n",
      "<li><a href=\"//tl.wikipedia.org/\" lang=\"tl\">Tagalog</a></li>\n",
      "<li><a href=\"//shn.wikipedia.org/\" lang=\"shn\">á½áááááááá¸</a></li>\n",
      "<li><a href=\"//te.wikipedia.org/\" lang=\"te\" title=\"Telugu\">à°¤à±à°²à±à°à±</a></li>\n",
      "<li><a href=\"//tum.wikipedia.org/\" lang=\"tum\">chiTumbuka</a></li>\n",
      "<li><a href=\"//bug.wikipedia.org/\" lang=\"bug\">Basa Ugi</a></li>\n",
      "<li><a href=\"//vec.wikipedia.org/\" lang=\"vec\">VÃ¨neto</a></li>\n",
      "<li><a href=\"//vo.wikipedia.org/\" lang=\"vo\">VolapÃ¼k</a></li>\n",
      "<li><a href=\"//wa.wikipedia.org/\" lang=\"wa\">Walon</a></li>\n",
      "<li><a href=\"//zh-classical.wikipedia.org/\" lang=\"lzh\" title=\"WÃ©nyÃ¡n\">æè¨</a></li>\n",
      "<li><a href=\"//wuu.wikipedia.org/\" lang=\"wuu\" title=\"WÃºyÇ\">å´è¯­</a></li>\n",
      "<li><a href=\"//yi.wikipedia.org/\" lang=\"yi\" title=\"YidiÅ¡\"><bdi dir=\"rtl\">××Ö´×××©</bdi></a></li>\n",
      "<li><a href=\"//yo.wikipedia.org/\" lang=\"yo\">YorÃ¹bÃ¡</a></li>\n",
      "<li><a href=\"//diq.wikipedia.org/\" lang=\"diq\" title=\"Zazaki\">Zazaki</a></li>\n",
      "<li><a href=\"//zu.wikipedia.org/\" lang=\"zu\">isiZulu</a></li>\n",
      "<li><a href=\"//bat-smg.wikipedia.org/\" lang=\"sgs\">Å¾emaitÄÅ¡ka</a></li>\n",
      "<li><a href=\"//mni.wikipedia.org/\" lang=\"mni\">ê¯ê¯¤ê¯ê¯© ê¯ê¯£ê¯</a></li>\n",
      "</ul>\n",
      "</div>\n",
      "<h2 class=\"bookshelf-container\">\n",
      "<span class=\"bookshelf\">\n",
      "<span class=\"text\">\n",
      "<bdi dir=\"ltr\">\n",
      "1,000+\n",
      "</bdi>\n",
      "<span class=\"jsl10n\" data-jsl10n=\"portal.entries\">\n",
      "articles\n",
      "</span>\n",
      "</span>\n",
      "</span>\n",
      "</h2>\n",
      "<div class=\"langlist hlist\" data-el-section=\"secondary links\">\n",
      "<ul>\n",
      "<li><a href=\"//lad.wikipedia.org/\" lang=\"lad\"><span lang=\"lad-Latn\">Dzhudezmo</span> / <bdi lang=\"lad-Hebr\" dir=\"rtl\">××××× ×</bdi></a></li>\n",
      "<li><a href=\"//kbd.wikipedia.org/\" lang=\"kbd\" title=\"Adighabze\">ÐÐ´ÑÐ³ÑÐ±Ð·Ñ</a></li>\n",
      "<li><a href=\"//ang.wikipedia.org/\" lang=\"ang\">Ãnglisc</a></li>\n",
      "<li><a href=\"//smn.wikipedia.org/\" lang=\"smn\" title=\"anarÃ¢Å¡kielÃ¢\">AnarÃ¢Å¡kielÃ¢</a></li>\n",
      "<li><a href=\"//anp.wikipedia.org/\" lang=\"anp\" title=\"Angika\">à¤",
      "à¤à¤à¤¿à¤à¤¾</a></li>\n",
      "<li><a href=\"//ab.wikipedia.org/\" lang=\"ab\" title=\"aá¹sshwa\">ÐÔ¥ÑÑÓÐ°</a></li>\n",
      "<li><a href=\"//roa-rup.wikipedia.org/\" lang=\"rup\">armÃ£neashti</a></li>\n",
      "<li><a href=\"//frp.wikipedia.org/\" lang=\"frp\">Arpitan</a></li>\n",
      "<li><a href=\"//atj.wikipedia.org/\" lang=\"atj\">atikamekw</a></li>\n",
      "<li><a href=\"//arc.wikipedia.org/\" lang=\"arc\" title=\"ÄtÃ»rÄyÃ¢\"><bdi dir=\"rtl\">ÜÜ¬ÜÜªÜÜ</bdi></a></li>\n",
      "<li><a href=\"//gn.wikipedia.org/\" lang=\"gn\">AvaÃ±eâáº½</a></li>\n",
      "<li><a href=\"//av.wikipedia.org/\" lang=\"av\" title=\"Avar\">ÐÐ²Ð°Ñ</a></li>\n",
      "<li><a href=\"//ay.wikipedia.org/\" lang=\"ay\">Aymar</a></li>\n",
      "<li><a href=\"//bh.wikipedia.org/\" lang=\"bh\" title=\"BhÅjapurÄ«\">à¤­à¥à¤à¤ªà¥à¤°à¥</a></li>\n",
      "<li><a href=\"//bi.wikipedia.org/\" lang=\"bi\">Bislama</a></li>\n",
      "<li><a href=\"//bo.wikipedia.org/\" lang=\"bo\" title=\"Bod Skad\">à½à½¼à½à¼à½¡à½²à½</a></li>\n",
      "<li><a href=\"//bxr.wikipedia.org/\" lang=\"bxr\" title=\"Buryad\">ÐÑÑÑÐ°Ð´</a></li>\n",
      "<li><a href=\"//cbk-zam.wikipedia.org/\" lang=\"cbk-x-zam\">Chavacano de Zamboanga</a></li>\n",
      "<li><a href=\"//ny.wikipedia.org/\" lang=\"ny\">Chichewa</a></li>\n",
      "<li><a href=\"//co.wikipedia.org/\" lang=\"co\">Corsu</a></li>\n",
      "<li><a href=\"//za.wikipedia.org/\" lang=\"za\">Vahcuengh / è©±å®</a></li>\n",
      "<li><a href=\"//dga.wikipedia.org/\" lang=\"dga\">Dagaare</a></li>\n",
      "<li><a href=\"//dag.wikipedia.org/\" lang=\"dag\">Dagbanli</a></li>\n",
      "<li><a href=\"//ary.wikipedia.org/\" lang=\"ary\" title=\"Darija\"><bdi dir=\"rtl\">Ø§ÙØ¯Ø§Ø±Ø¬Ø©</bdi></a></li>\n",
      "<li><a href=\"//se.wikipedia.org/\" lang=\"se\" title=\"davvisÃ¡megiella\">DavvisÃ¡megiella</a></li>\n",
      "<li><a href=\"//pdc.wikipedia.org/\" lang=\"pdc\">Deitsch</a></li>\n",
      "<li><a href=\"//dv.wikipedia.org/\" lang=\"dv\" title=\"Divehi\"><bdi dir=\"rtl\">ÞÞ¨ÞÞ¬ÞÞ¨ÞÞ¦ÞÞ°</bdi></a></li>\n",
      "<li><a href=\"//dsb.wikipedia.org/\" lang=\"dsb\">Dolnoserbski</a></li>\n",
      "<li><a href=\"//myv.wikipedia.org/\" lang=\"myv\" title=\"Erzjanj\">Ð­ÑÐ·ÑÐ½Ñ</a></li>\n",
      "<li><a href=\"//ext.wikipedia.org/\" lang=\"ext\">EstremeÃ±u</a></li>\n",
      "<li><a href=\"//ff.wikipedia.org/\" lang=\"ff\">Fulfulde</a></li>\n",
      "<li><a href=\"//fur.wikipedia.org/\" lang=\"fur\">Furlan</a></li>\n",
      "<li><a href=\"//gv.wikipedia.org/\" lang=\"gv\">Gaelg</a></li>\n",
      "<li><a href=\"//gag.wikipedia.org/\" lang=\"gag\">Gagauz</a></li>\n",
      "<li><a href=\"//inh.wikipedia.org/\" lang=\"inh\" title=\"Ghalghai\">ÐÓÐ°Ð»Ð³ÓÐ°Ð¹</a></li>\n",
      "<li><a href=\"//ki.wikipedia.org/\" lang=\"ki\">GÄ©kÅ©yÅ©</a></li>\n",
      "<li><a href=\"//glk.wikipedia.org/\" lang=\"glk\" title=\"GilÉki\"><bdi dir=\"rtl\">Ú¯ÛÙÚ©Û</bdi></a></li>\n",
      "<li><a href=\"//gan.wikipedia.org/\" lang=\"gan\" title=\"Gon ua\" data-hans=\"èµ£è¯­\" data-hant=\"è´èª\" class=\"jscnconv\">èµ£è¯­ / è´èª</a></li>\n",
      "<li><a href=\"//guw.wikipedia.org/\" lang=\"guw\">Gungbe</a></li>\n",
      "<li><a href=\"//xal.wikipedia.org/\" lang=\"xal\" title=\"HalÊ¹mg\">Ð¥Ð°Ð»ÑÐ¼Ð³</a></li>\n",
      "<li><a href=\"//haw.wikipedia.org/\" lang=\"haw\">Ê»Ålelo HawaiÊ»i</a></li>\n",
      "<li><a href=\"//rw.wikipedia.org/\" lang=\"rw\">Ikinyarwanda</a></li>\n",
      "<li><a href=\"//kbp.wikipedia.org/\" lang=\"kbp\">KabÉ©yÉ</a></li>\n",
      "<li><a href=\"//pam.wikipedia.org/\" lang=\"pam\">Kapampangan</a></li>\n",
      "<li><a href=\"//csb.wikipedia.org/\" lang=\"csb\">KaszÃ«bsczi</a></li>\n",
      "<li><a href=\"//kw.wikipedia.org/\" lang=\"kw\">Kernewek</a></li>\n",
      "<li><a href=\"//kv.wikipedia.org/\" lang=\"kv\" title=\"Komi\">ÐÐ¾Ð¼Ð¸</a></li>\n",
      "<li><a href=\"//koi.wikipedia.org/\" lang=\"koi\" title=\"Perem Komi\">ÐÐµÑÐµÐ¼ ÐºÐ¾Ð¼Ð¸</a></li>\n",
      "<li><a href=\"//kg.wikipedia.org/\" lang=\"kg\">Kongo</a></li>\n",
      "<li><a href=\"//gom.wikipedia.org/\" lang=\"gom\">à¤à¥à¤à¤à¤£à¥ / Konknni</a></li>\n",
      "<li><a href=\"//ks.wikipedia.org/\" lang=\"ks\" title=\"Koshur\"><bdi dir=\"rtl\">ÙÙ²Ø´ÙØ±</bdi></a></li>\n",
      "<li><a href=\"//gcr.wikipedia.org/\" lang=\"gcr\" title=\"KriyÃ²l Gwiyannen\">KriyÃ²l Gwiyannen</a></li>\n",
      "<li><a href=\"//lo.wikipedia.org/\" lang=\"lo\" title=\"Phaasaa Laao\">àºàº²àºªàº²àº¥àº²àº§</a></li>\n",
      "<li><a href=\"//lbe.wikipedia.org/\" lang=\"lbe\" title=\"Lakku\">ÐÐ°ÐºÐºÑ</a></li>\n",
      "<li><a href=\"//ltg.wikipedia.org/\" lang=\"ltg\">LatgaÄ¼u</a></li>\n",
      "<li><a href=\"//lez.wikipedia.org/\" lang=\"lez\" title=\"Lezgi\">ÐÐµÐ·Ð³Ð¸</a></li>\n",
      "<li><a href=\"//nia.wikipedia.org/\" lang=\"nia\">Li Niha</a></li>\n",
      "<li><a href=\"//ln.wikipedia.org/\" lang=\"ln\">LingÃ¡la</a></li>\n",
      "<li><a href=\"//lfn.wikipedia.org/\" lang=\"lfn\">Lingua Franca Nova</a></li>\n",
      "<li><a href=\"//olo.wikipedia.org/\" lang=\"olo\">livvinkarjala</a></li>\n",
      "<li><a href=\"//jbo.wikipedia.org/\" lang=\"jbo\">lojban</a></li>\n",
      "<li><a href=\"//lg.wikipedia.org/\" lang=\"lg\">Luganda</a></li>\n",
      "<li><a href=\"//mad.wikipedia.org/\" lang=\"mad\">MadhurÃ¢</a></li>\n",
      "<li><a href=\"//mt.wikipedia.org/\" lang=\"mt\">Malti</a></li>\n",
      "<li><a href=\"//mi.wikipedia.org/\" lang=\"mi\">MÄori</a></li>\n",
      "<li><a href=\"//tw.wikipedia.org/\" lang=\"tw\" title=\"Mfantse\">Twi</a></li>\n",
      "<li><a href=\"//mwl.wikipedia.org/\" lang=\"mwl\">MirandÃ©s</a></li>\n",
      "<li><a href=\"//mdf.wikipedia.org/\" lang=\"mdf\" title=\"MokÅ¡enj\">ÐÐ¾ÐºÑÐµÐ½Ñ</a></li>\n",
      "<li><a href=\"//mnw.wikipedia.org/\" lang=\"mnw\">áá¬áá¬ áááº</a></li>\n",
      "<li><a href=\"//nqo.wikipedia.org/\" lang=\"nqo\" title=\"N&#x27;Ko\">ßßß</a></li>\n",
      "<li><a href=\"//fj.wikipedia.org/\" lang=\"fj\">Na Vosa Vaka-Viti</a></li>\n",
      "<li><a href=\"//nah.wikipedia.org/\" lang=\"nah\">NÄhuatlahtÅlli</a></li>\n",
      "<li><a href=\"//pcm.wikipedia.org/\" lang=\"pcm\">NaijÃ¡</a></li>\n",
      "<li><a href=\"//nds-nl.wikipedia.org/\" lang=\"nds-nl\">Nedersaksisch</a></li>\n",
      "<li><a href=\"//nrm.wikipedia.org/\" lang=\"roa-x-nrm\">Nouormand / Normaund</a></li>\n",
      "<li><a href=\"//nov.wikipedia.org/\" lang=\"nov\">Novial</a></li>\n",
      "<li><a href=\"//om.wikipedia.org/\" lang=\"om\" title=\"Ingiliffaa\">Afaan Oromoo</a></li>\n",
      "<li><a href=\"//blk.wikipedia.org/\" lang=\"blk\">áá¡á­á¯ááºááá¬ááá¬á</a></li>\n",
      "<li><a href=\"//pi.wikipedia.org/\" lang=\"pi\" title=\"PÄá¸·i\">à¤ªà¤¾à¤²à¤¿</a></li>\n",
      "<li><a href=\"//pag.wikipedia.org/\" lang=\"pag\">PangasinÃ¡n</a></li>\n",
      "<li><a href=\"//ami.wikipedia.org/\" lang=\"ami\">Pangcah</a></li>\n",
      "<li><a href=\"//pap.wikipedia.org/\" lang=\"pap\">Papiamentu</a></li>\n",
      "<li><a href=\"//jam.wikipedia.org/\" lang=\"jam\">Patois</a></li>\n",
      "<li><a href=\"//pfl.wikipedia.org/\" lang=\"pfl\">PfÃ¤lzisch</a></li>\n",
      "<li><a href=\"//pcd.wikipedia.org/\" lang=\"pcd\">Picard</a></li>\n",
      "<li><a href=\"//krc.wikipedia.org/\" lang=\"krc\" title=\"QaraÃ§ayâMalqar\">ÐÑÐ°ÑÐ°ÑÐ°Ð¹âÐ¼Ð°Ð»ÐºÑÐ°Ñ</a></li>\n",
      "<li><a href=\"//kaa.wikipedia.org/\" lang=\"kaa\" title=\"Qaraqalpaqsha\">Qaraqalpaqsha</a></li>\n",
      "<li><a href=\"//ksh.wikipedia.org/\" lang=\"ksh\">Ripoarisch</a></li>\n",
      "<li><a href=\"//rm.wikipedia.org/\" lang=\"rm\">Rumantsch</a></li>\n",
      "<li><a href=\"//rue.wikipedia.org/\" lang=\"rue\" title=\"Rusinâskyj\">Ð ÑÑÐ¸Ð½ÑÑÐºÑÐ¹</a></li>\n",
      "<li><a href=\"//szy.wikipedia.org/\" lang=\"szy\">Sakizaya</a></li>\n",
      "<li><a href=\"//sm.wikipedia.org/\" lang=\"sm\">Gagana SÄmoa</a></li>\n",
      "<li><a href=\"//skr.wikipedia.org/\" lang=\"skr\" title=\"Saraiki\">Ø³Ø±Ø§Ø¦ÛÚ©Û</a></li>\n",
      "<li><a href=\"//sc.wikipedia.org/\" lang=\"sc\" title=\"Sardu\">Sardu</a></li>\n",
      "<li><a href=\"//trv.wikipedia.org/\" lang=\"trv\">Seediq</a></li>\n",
      "<li><a href=\"//stq.wikipedia.org/\" lang=\"stq\">Seeltersk</a></li>\n",
      "<li><a href=\"//nso.wikipedia.org/\" lang=\"nso\">Sesotho sa Leboa</a></li>\n",
      "<li><a href=\"//tn.wikipedia.org/\" lang=\"tn\">Setswana</a></li>\n",
      "<li><a href=\"//cu.wikipedia.org/\" lang=\"cu\" title=\"SlovÄnÄ­skÅ­\">Ð¡Ð»Ð¾Ð²Ñ£ÌÐ½ÑÑÐºÑ / â°â°â°â°â°¡â°â° â°â°â°</a></li>\n",
      "<li><a href=\"//so.wikipedia.org/\" lang=\"so\">Soomaaliga</a></li>\n",
      "<li><a href=\"//srn.wikipedia.org/\" lang=\"srn\">Sranantongo</a></li>\n",
      "<li><a href=\"//shi.wikipedia.org/\" lang=\"shi\">Taclá¸¥it</a></li>\n",
      "<li><a href=\"//zgh.wikipedia.org/\" lang=\"zgh\" title=\"Tamazight tanawayt\">âµâ´°âµâ´°âµ£âµâµâµ âµâ´°âµâ´°âµ¡â´°âµ¢âµ</a></li>\n",
      "<li><a href=\"//kab.wikipedia.org/\" lang=\"kab\" title=\"Taqbaylit\">Taqbaylit</a></li>\n",
      "<li><a href=\"//roa-tara.wikipedia.org/\" lang=\"roa\">TarandÃ­ne</a></li>\n",
      "<li><a href=\"//tay.wikipedia.org/\" lang=\"tay\">Tayal</a></li>\n",
      "<li><a href=\"//tet.wikipedia.org/\" lang=\"tet\">Tetun</a></li>\n",
      "<li><a href=\"//tpi.wikipedia.org/\" lang=\"tpi\">Tok Pisin</a></li>\n",
      "<li><a href=\"//tly.wikipedia.org/\" lang=\"tly\">tolÄ±Åi</a></li>\n",
      "<li><a href=\"//to.wikipedia.org/\" lang=\"to\">faka Tonga</a></li>\n",
      "<li><a href=\"//chr.wikipedia.org/\" lang=\"chr\" title=\"Tsalagi\">á£á³á©</a></li>\n",
      "<li><a href=\"//tk.wikipedia.org/\" lang=\"tk\">TÃ¼rkmenÃ§e</a></li>\n",
      "<li><a href=\"//tyv.wikipedia.org/\" lang=\"tyv\" title=\"Tyva dyl\">Ð¢ÑÐ²Ð° Ð´ÑÐ»</a></li>\n",
      "<li><a href=\"//udm.wikipedia.org/\" lang=\"udm\" title=\"Udmurt\">Ð£Ð´Ð¼ÑÑÑ</a></li>\n",
      "<li><a href=\"//ug.wikipedia.org/\" lang=\"ug\"><bdi dir=\"rtl\">Ø¦ÛÙØºÛØ±ÚÙ</bdi></a></li>\n",
      "<li><a href=\"//vep.wikipedia.org/\" lang=\"vep\">VepsÃ¤n</a></li>\n",
      "<li><a href=\"//fiu-vro.wikipedia.org/\" lang=\"vro\">vÃµro</a></li>\n",
      "<li><a href=\"//vls.wikipedia.org/\" lang=\"vls\">West-Vlams</a></li>\n",
      "<li><a href=\"//wo.wikipedia.org/\" lang=\"wo\">Wolof</a></li>\n",
      "<li><a href=\"//xh.wikipedia.org/\" lang=\"xh\">isiXhosa</a></li>\n",
      "<li><a href=\"//zea.wikipedia.org/\" lang=\"zea\">ZeÃªuws</a></li>\n",
      "<li><a href=\"//alt.wikipedia.org/\" lang=\"alt\">Ð°Ð»ÑÐ°Ð¹ ÑÐ¸Ð»</a></li>\n",
      "<li><a href=\"//ty.wikipedia.org/\" lang=\"ty\">Reo tahiti</a></li>\n",
      "<li><a href=\"//awa.wikipedia.org/\" lang=\"awa\">à¤",
      "à¤µà¤§à¥</a></li>\n",
      "<li><a href=\"//dty.wikipedia.org/\" lang=\"dty\">à¤¡à¥à¤à¥à¤²à¥</a></li>\n",
      "<li><a href=\"//tcy.wikipedia.org/\" lang=\"tcy\">à²¤à³à²³à³</a></li>\n",
      "</ul>\n",
      "</div>\n",
      "<h2 class=\"bookshelf-container\">\n",
      "<span class=\"bookshelf\">\n",
      "<span class=\"text\">\n",
      "<bdi dir=\"ltr\">\n",
      "100+\n",
      "</bdi>\n",
      "<span class=\"jsl10n\" data-jsl10n=\"portal.entries\">\n",
      "articles\n",
      "</span>\n",
      "</span>\n",
      "</span>\n",
      "</h2>\n",
      "<div class=\"langlist langlist-tiny hlist\" data-el-section=\"secondary links\">\n",
      "<ul>\n",
      "<li><a href=\"//bm.wikipedia.org/\" lang=\"bm\">Bamanankan</a></li>\n",
      "<li><a href=\"//bbc.wikipedia.org/\" lang=\"bbc\">Batak Toba</a></li>\n",
      "<li><a href=\"//ch.wikipedia.org/\" lang=\"ch\">Chamoru</a></li>\n",
      "<li><a href=\"//ee.wikipedia.org/\" lang=\"ee\">EÊegbe</a></li>\n",
      "<li><a href=\"//gur.wikipedia.org/\" lang=\"gur\">Farefare</a></li>\n",
      "<li><a href=\"//fon.wikipedia.org/\" lang=\"fon\">FÉÌngbÃ¨</a></li>\n",
      "<li><a href=\"//gpe.wikipedia.org/\" lang=\"gpe\">Ghanaian Pidgin</a></li>\n",
      "<li><a href=\"//got.wikipedia.org/\" lang=\"got\" title=\"Gutisk\">ð²ð¿ðð¹ððº</a></li>\n",
      "<li><a href=\"//iu.wikipedia.org/\" lang=\"iu\">áááááá¦ / Inuktitut</a></li>\n",
      "<li><a href=\"//ik.wikipedia.org/\" lang=\"ik\">IÃ±upiak</a></li>\n",
      "<li><a href=\"//kl.wikipedia.org/\" lang=\"kl\">Kalaallisut</a></li>\n",
      "<li><a href=\"//fat.wikipedia.org/\" lang=\"fat\">Mfantse</a></li>\n",
      "<li><a href=\"//pih.wikipedia.org/\" lang=\"pih\">Norfuk / Pitkern</a></li>\n",
      "<li><a href=\"//pwn.wikipedia.org/\" lang=\"pwn\">pinayuanan</a></li>\n",
      "<li><a href=\"//pnt.wikipedia.org/\" lang=\"pnt\" title=\"PontiakÃ¡\">Î Î¿Î½ÏÎ¹Î±ÎºÎ¬</a></li>\n",
      "<li><a href=\"//dz.wikipedia.org/\" lang=\"dz\" title=\"Rdzong-Kha\">à½¢à¾«à½¼à½à¼à½</a></li>\n",
      "<li><a href=\"//rmy.wikipedia.org/\" lang=\"rmy\">romani Ähib</a></li>\n",
      "<li><a href=\"//rn.wikipedia.org/\" lang=\"rn\">Ikirundi</a></li>\n",
      "<li><a href=\"//sg.wikipedia.org/\" lang=\"sg\">SÃ¤ngÃ¶</a></li>\n",
      "<li><a href=\"//st.wikipedia.org/\" lang=\"st\">Sesotho</a></li>\n",
      "<li><a href=\"//ss.wikipedia.org/\" lang=\"ss\">SiSwati</a></li>\n",
      "<li><a href=\"//ti.wikipedia.org/\" lang=\"ti\" title=\"TÉgÉrÉÃ±a\">áµáá­á</a></li>\n",
      "<li><a href=\"//din.wikipedia.org/\" lang=\"din\">ThuÉÅjÃ¤Å</a></li>\n",
      "<li><a href=\"//chy.wikipedia.org/\" lang=\"chy\">TsÄhesenÄstsestotse</a></li>\n",
      "<li><a href=\"//ts.wikipedia.org/\" lang=\"ts\">Xitsonga</a></li>\n",
      "<li><a href=\"//kcg.wikipedia.org/\" lang=\"kcg\">Tyap</a></li>\n",
      "<li><a href=\"//ve.wikipedia.org/\" lang=\"ve\">Tshivená¸a</a></li>\n",
      "<li><a href=\"//guc.wikipedia.org/\" lang=\"guc\">Wayuunaiki</a></li>\n",
      "<li><a href=\"//ady.wikipedia.org/\" lang=\"ady\">Ð°Ð´ÑÐ³Ð°Ð±Ð·Ñ</a></li>\n",
      "</ul>\n",
      "</div>\n",
      "<div class=\"langlist langlist-others hlist\" data-el-section=\"other languages\">\n",
      "<a class=\"jsl10n\" href=\"https://meta.wikimedia.org/wiki/Special:MyLanguage/List_of_Wikipedias\" lang data-jsl10n=\"other-languages-label\">Other languages</a>\n",
      "</div></div>\n",
      "</div>\n",
      "</nav>\n",
      "<hr>\n",
      "</main>\n",
      "<footer class=\"footer\" data-el-section=\"other projects\">\n",
      "<div class=\"footer-sidebar\">\n",
      "<div class=\"footer-sidebar-content\">\n",
      "<div class=\"footer-sidebar-icon sprite svg-Wikimedia-logo_black\">\n",
      "</div>\n",
      "<div class=\"footer-sidebar-text jsl10n\" data-jsl10n=\"portal.footer-description\">\n",
      "Wikipedia is hosted by the Wikimedia Foundation, a non-profit organization that also hosts a range of other projects.\n",
      "</div>\n",
      "<div class=\"footer-sidebar-text\">\n",
      "<a href=\"https://donate.wikimedia.org/?utm_medium=portal&utm_campaign=portalFooter&utm_source=portalFooter\" target=\"_blank\">\n",
      "<span class=\"jsl10n\" data-jsl10n=\"footer-donate\">You can support our work with a donation.</span>\n",
      "</a>\n",
      "</div>\n",
      "</div>\n",
      "</div>\n",
      "<div class=\"footer-sidebar app-badges\">\n",
      "<div class=\"footer-sidebar-content\">\n",
      "<div class=\"footer-sidebar-text\">\n",
      "<div class=\"footer-sidebar-icon sprite svg-wikipedia_app_tile\"></div>\n",
      "<strong class=\"jsl10n\" data-jsl10n=\"portal.app-links.title\">\n",
      "<a class=\"jsl10n\" data-jsl10n=\"portal.app-links.url\" href=\"https://en.wikipedia.org/wiki/List_of_Wikipedia_mobile_applications\">\n",
      "Download Wikipedia for Android or iOS\n",
      "</a>\n",
      "</strong>\n",
      "<p class=\"jsl10n\" data-jsl10n=\"portal.app-links.description\">\n",
      "Save your favorite articles to read offline, sync your reading lists across devices and customize your reading experience with the official Wikipedia app.\n",
      "</p>\n",
      "<ul>\n",
      "<li class=\"app-badge app-badge-android\">\n",
      "<a target=\"_blank\" rel=\"noreferrer\" href=\"https://play.google.com/store/apps/details?id=org.wikipedia&referrer=utm_source%3Dportal%26utm_medium%3Dbutton%26anid%3Dadmob\">\n",
      "<span class=\"jsl10n sprite svg-badge_google_play_store\" data-jsl10n=\"portal.app-links.google-store\">Google Play Store</span>\n",
      "</a>\n",
      "</li>\n",
      "<li class=\"app-badge app-badge-ios\">\n",
      "<a target=\"_blank\" rel=\"noreferrer\" href=\"https://itunes.apple.com/app/apple-store/id324715238?pt=208305&ct=portal&mt=8\">\n",
      "<span class=\"jsl10n sprite svg-badge_ios_app_store\" data-jsl10n=\"portal.app-links.apple-store\">Apple App Store</span>\n",
      "</a>\n",
      "</li>\n",
      "</ul>\n",
      "</div>\n",
      "</div>\n",
      "</div>\n",
      "<nav data-jsl10n=\"other-projects-nav-label\" aria-label=\"Other projects\" class=\"other-projects\">\n",
      "<div class=\"other-project\">\n",
      "<a class=\"other-project-link\" href=\"//commons.wikimedia.org/\">\n",
      "<div class=\"other-project-icon\">\n",
      "<div class=\"sprite svg-Commons-logo_sister\"></div>\n",
      "</div>\n",
      "<div class=\"other-project-text\">\n",
      "<span class=\"other-project-title jsl10n\" data-jsl10n=\"commons.name\">Commons</span>\n",
      "<span class=\"other-project-tagline jsl10n\" data-jsl10n=\"commons.slogan\">Freely usable photos &amp; more</span>\n",
      "</div>\n",
      "</a>\n",
      "</div>\n",
      "<div class=\"other-project\">\n",
      "<a class=\"other-project-link\" href=\"//www.wikivoyage.org/\">\n",
      "<div class=\"other-project-icon\">\n",
      "<div class=\"sprite svg-Wikivoyage-logo_sister\"></div>\n",
      "</div>\n",
      "<div class=\"other-project-text\">\n",
      "<span class=\"other-project-title jsl10n\" data-jsl10n=\"wikivoyage.name\">Wikivoyage</span>\n",
      "<span class=\"other-project-tagline jsl10n\" data-jsl10n=\"wikivoyage.slogan\">Free travel guide</span>\n",
      "</div>\n",
      "</a>\n",
      "</div>\n",
      "<div class=\"other-project\">\n",
      "<a class=\"other-project-link\" href=\"//www.wiktionary.org/\">\n",
      "<div class=\"other-project-icon\">\n",
      "<div class=\"sprite svg-Wiktionary-logo_sister\"></div>\n",
      "</div>\n",
      "<div class=\"other-project-text\">\n",
      "<span class=\"other-project-title jsl10n\" data-jsl10n=\"wiktionary.name\">Wiktionary</span>\n",
      "<span class=\"other-project-tagline jsl10n\" data-jsl10n=\"wiktionary.slogan\">Free dictionary</span>\n",
      "</div>\n",
      "</a>\n",
      "</div>\n",
      "<div class=\"other-project\">\n",
      "<a class=\"other-project-link\" href=\"//www.wikibooks.org/\">\n",
      "<div class=\"other-project-icon\">\n",
      "<div class=\"sprite svg-Wikibooks-logo_sister\"></div>\n",
      "</div>\n",
      "<div class=\"other-project-text\">\n",
      "<span class=\"other-project-title jsl10n\" data-jsl10n=\"wikibooks.name\">Wikibooks</span>\n",
      "<span class=\"other-project-tagline jsl10n\" data-jsl10n=\"wikibooks.slogan\">Free textbooks</span>\n",
      "</div>\n",
      "</a>\n",
      "</div>\n",
      "<div class=\"other-project\">\n",
      "<a class=\"other-project-link\" href=\"//www.wikinews.org/\">\n",
      "<div class=\"other-project-icon\">\n",
      "<div class=\"sprite svg-Wikinews-logo_sister\"></div>\n",
      "</div>\n",
      "<div class=\"other-project-text\">\n",
      "<span class=\"other-project-title jsl10n\" data-jsl10n=\"wikinews.name\">Wikinews</span>\n",
      "<span class=\"other-project-tagline jsl10n\" data-jsl10n=\"wikinews.slogan\">Free news source</span>\n",
      "</div>\n",
      "</a>\n",
      "</div>\n",
      "<div class=\"other-project\">\n",
      "<a class=\"other-project-link\" href=\"//www.wikidata.org/\">\n",
      "<div class=\"other-project-icon\">\n",
      "<div class=\"sprite svg-Wikidata-logo_sister\"></div>\n",
      "</div>\n",
      "<div class=\"other-project-text\">\n",
      "<span class=\"other-project-title jsl10n\" data-jsl10n=\"wikidata.name\">Wikidata</span>\n",
      "<span class=\"other-project-tagline jsl10n\" data-jsl10n=\"wikidata.slogan\">Free knowledge base</span>\n",
      "</div>\n",
      "</a>\n",
      "</div>\n",
      "<div class=\"other-project\">\n",
      "<a class=\"other-project-link\" href=\"//www.wikiversity.org/\">\n",
      "<div class=\"other-project-icon\">\n",
      "<div class=\"sprite svg-Wikiversity-logo_sister\"></div>\n",
      "</div>\n",
      "<div class=\"other-project-text\">\n",
      "<span class=\"other-project-title jsl10n\" data-jsl10n=\"wikiversity.name\">Wikiversity</span>\n",
      "<span class=\"other-project-tagline jsl10n\" data-jsl10n=\"wikiversity.slogan\">Free course materials</span>\n",
      "</div>\n",
      "</a>\n",
      "</div>\n",
      "<div class=\"other-project\">\n",
      "<a class=\"other-project-link\" href=\"//www.wikiquote.org/\">\n",
      "<div class=\"other-project-icon\">\n",
      "<div class=\"sprite svg-Wikiquote-logo_sister\"></div>\n",
      "</div>\n",
      "<div class=\"other-project-text\">\n",
      "<span class=\"other-project-title jsl10n\" data-jsl10n=\"wikiquote.name\">Wikiquote</span>\n",
      "<span class=\"other-project-tagline jsl10n\" data-jsl10n=\"wikiquote.slogan\">Free quote compendium</span>\n",
      "</div>\n",
      "</a>\n",
      "</div>\n",
      "<div class=\"other-project\">\n",
      "<a class=\"other-project-link\" href=\"//www.mediawiki.org/\">\n",
      "<div class=\"other-project-icon\">\n",
      "<div class=\"sprite svg-MediaWiki-logo_sister\"></div>\n",
      "</div>\n",
      "<div class=\"other-project-text\">\n",
      "<span class=\"other-project-title jsl10n\" data-jsl10n=\"mediawiki.name\">MediaWiki</span>\n",
      "<span class=\"other-project-tagline jsl10n\" data-jsl10n=\"mediawiki.slogan\">Free &amp; open wiki application</span>\n",
      "</div>\n",
      "</a>\n",
      "</div>\n",
      "<div class=\"other-project\">\n",
      "<a class=\"other-project-link\" href=\"//www.wikisource.org/\">\n",
      "<div class=\"other-project-icon\">\n",
      "<div class=\"sprite svg-Wikisource-logo_sister\"></div>\n",
      "</div>\n",
      "<div class=\"other-project-text\">\n",
      "<span class=\"other-project-title jsl10n\" data-jsl10n=\"wikisource.name\">Wikisource</span>\n",
      "<span class=\"other-project-tagline jsl10n\" data-jsl10n=\"wikisource.slogan\">Free library</span>\n",
      "</div>\n",
      "</a>\n",
      "</div>\n",
      "<div class=\"other-project\">\n",
      "<a class=\"other-project-link\" href=\"//species.wikimedia.org/\">\n",
      "<div class=\"other-project-icon\">\n",
      "<div class=\"sprite svg-Wikispecies-logo_sister\"></div>\n",
      "</div>\n",
      "<div class=\"other-project-text\">\n",
      "<span class=\"other-project-title jsl10n\" data-jsl10n=\"wikispecies.name\">Wikispecies</span>\n",
      "<span class=\"other-project-tagline jsl10n\" data-jsl10n=\"wikispecies.slogan\">Free species directory</span>\n",
      "</div>\n",
      "</a>\n",
      "</div>\n",
      "<div class=\"other-project\">\n",
      "<a class=\"other-project-link\" href=\"//www.wikifunctions.org/\">\n",
      "<div class=\"other-project-icon\">\n",
      "<div class=\"sprite svg-Wikifunctions-logo_sister\"></div>\n",
      "</div>\n",
      "<div class=\"other-project-text\">\n",
      "<span class=\"other-project-title jsl10n\" data-jsl10n=\"wikifunctions.name\">Wikifunctions</span>\n",
      "<span class=\"other-project-tagline jsl10n\" data-jsl10n=\"wikifunctions.slogan\">Free function library</span>\n",
      "</div>\n",
      "</a>\n",
      "</div>\n",
      "<div class=\"other-project\">\n",
      "<a class=\"other-project-link\" href=\"//meta.wikimedia.org/\">\n",
      "<div class=\"other-project-icon\">\n",
      "<div class=\"sprite svg-Meta-Wiki-logo_sister\"></div>\n",
      "</div>\n",
      "<div class=\"other-project-text\">\n",
      "<span class=\"other-project-title jsl10n\" data-jsl10n=\"metawiki.name\">Meta-Wiki</span>\n",
      "<span class=\"other-project-tagline jsl10n\" data-jsl10n=\"metawiki.slogan\">Community coordination &amp; documentation</span>\n",
      "</div>\n",
      "</a>\n",
      "</div>\n",
      "</nav>\n",
      "<hr>\n",
      "<p class=\"site-license\">\n",
      "<small class=\"jsl10n\" data-jsl10n=\"license\">This page is available under the <a href=\"https://creativecommons.org/licenses/by-sa/4.0/\">Creative Commons Attribution-ShareAlike License</a></small>\n",
      "<small class=\"jsl10n\" data-jsl10n=\"terms\"><a href=\"https://meta.wikimedia.org/wiki/Terms_of_use\">Terms of Use</a></small>\n",
      "<small class=\"jsl10n\" data-jsl10n=\"privacy-policy\"><a href=\"https://meta.wikimedia.org/wiki/Privacy_policy\">Privacy Policy</a></small>\n",
      "</p>\n",
      "</footer>\n",
      "<script>\n",
      "var rtlLangs = ['ar','arc','ary','arz','bcc','bgn','bqi','ckb','dv','fa','glk','he','kk-cn','kk-arab','khw','ks','ku-arab','lki','luz','mzn','nqo','pnb','ps','sd','sdh','skr','ug','ur','yi'],\n",
      "    translationsHash = '5cad734a',\n",
      "    /**\n",
      "     * This variable is used to convert the generic \"portal\" keyword in the data-jsl10n attributes\n",
      "     * e.g. 'data-jsl10n=\"portal.footer-description\"' into a portal-specific key, e.g. \"wiki\"\n",
      "     * for the Wikipedia portal.\n",
      "     */\n",
      "    translationsPortalKey = 'wiki';\n",
      "    /**\n",
      "     * The wm-typeahead.js feature is used for search,and it uses domain name for searching. We want domain\n",
      "     * name to be portal Specific (different for every portal).So by declaring variable 'portalSearchDomain'\n",
      "     * in index.handlebars we will make this portal Specific.\n",
      "    **/\n",
      "    portalSearchDomain = 'wikipedia.org'\n",
      "    /*\n",
      "     This object is used by l10n scripts (page-localized.js, topten-localized.js)\n",
      "     to reveal the page content after l10n json is loaded.\n",
      "     A timer is also set to prevent JS from hiding page content indefinitelty.\n",
      "     This script is inlined to safeguard againt script loading errors and placed\n",
      "     at the top of the page to safeguard against any HTML loading/parsing errors.\n",
      "    */\n",
      "    wmL10nVisible = {\n",
      "        ready: false,\n",
      "        makeVisible: function(){\n",
      "            if ( !wmL10nVisible.ready ) {\n",
      "                wmL10nVisible.ready = true;\n",
      "                document.body.className += ' jsl10n-visible';\n",
      "            }\n",
      "        }\n",
      "    };\n",
      "    window.setTimeout( wmL10nVisible.makeVisible, 1000 )\n",
      "</script>\n",
      "<script src=\"portal/wikipedia.org/assets/js/index-24c3e2ca18.js\"></script>\n",
      "<script src=\"portal/wikipedia.org/assets/js/gt-ie9-ce3fe8e88d.js\"></script>\n",
      "<style>\n",
      ".styled-select {\n",
      "        display: block;\n",
      "    }\n",
      "</style>\n",
      "</body>\n",
      "</html>\n",
      "\n"
     ]
    }
   ],
   "source": [
    "import requests\n",
    "\n",
    "url = \"http://www.wikipedia.org\"\n",
    "response = requests.get(url)\n",
    "\n",
    "if response.status_code == 200:\n",
    "    print(response.text)  # Esto imprimirá el contenido HTML de la página principal de Wikipedia\n",
    "else:\n",
    "    print(\"Error al obtener la página:\", response.status_code)\n"
   ]
  },
  {
   "cell_type": "code",
   "execution_count": 10,
   "id": "e42becc5-5181-4437-b984-80828a661f01",
   "metadata": {},
   "outputs": [
    {
     "name": "stdout",
     "output_type": "stream",
     "text": [
      "{'User-Agent': 'python-requests/2.31.0', 'Accept-Encoding': 'gzip, deflate, br, zstd', 'Accept': '*/*', 'Connection': 'keep-alive'}\n"
     ]
    }
   ],
   "source": [
    "# Ver la cabecera de la petición HTTP\n",
    "print(response.request.headers)"
   ]
  },
  {
   "cell_type": "code",
   "execution_count": 11,
   "id": "fa96e24b-1dc9-43e4-bec0-ee7d3bceeac1",
   "metadata": {},
   "outputs": [
    {
     "name": "stdout",
     "output_type": "stream",
     "text": [
      "{'User-Agent': 'MiNavegador/1.0', 'Accept-Encoding': 'gzip, deflate, br, zstd', 'Accept': '*/*', 'Connection': 'keep-alive'}\n"
     ]
    }
   ],
   "source": [
    "# Especificando cabeceras\n",
    "\n",
    "url = \"http://www.example.com\"\n",
    "headers = {'User-Agent': 'MiNavegador/1.0'}\n",
    "\n",
    "# Crear la solicitud con las cabeceras especificadas\n",
    "response = requests.get(url, headers=headers)\n",
    "\n",
    "# Ver la cabecera de la petición HTTP\n",
    "print(response.request.headers)\n"
   ]
  },
  {
   "cell_type": "markdown",
   "id": "b7b3138f-4e28-4830-beb8-6bb577c80ac5",
   "metadata": {},
   "source": [
    "#### 2.1.2. Enviament respostes HTTP"
   ]
  },
  {
   "cell_type": "code",
   "execution_count": 9,
   "id": "340429a3-2bcd-4014-a04d-ec62b99797a0",
   "metadata": {},
   "outputs": [
    {
     "name": "stdout",
     "output_type": "stream",
     "text": [
      "{'date': 'Sun, 24 Mar 2024 04:01:17 GMT', 'cache-control': 's-maxage=86400, must-revalidate, max-age=3600', 'server': 'ATS/9.1.4', 'etag': 'W/\"130cf-612d84b6e0000\"', 'last-modified': 'Mon, 04 Mar 2024 16:34:08 GMT', 'content-type': 'text/html', 'content-encoding': 'gzip', 'vary': 'Accept-Encoding', 'age': '31106', 'x-cache': 'cp6016 hit, cp6010 hit/276272', 'x-cache-status': 'hit-front', 'server-timing': 'cache;desc=\"hit-front\", host;desc=\"cp6010\"', 'strict-transport-security': 'max-age=106384710; includeSubDomains; preload', 'report-to': '{ \"group\": \"wm_nel\", \"max_age\": 604800, \"endpoints\": [{ \"url\": \"https://intake-logging.wikimedia.org/v1/events?stream=w3c.reportingapi.network_error&schema_uri=/w3c/reportingapi/network_error/1.0.0\" }] }', 'nel': '{ \"report_to\": \"wm_nel\", \"max_age\": 604800, \"failure_fraction\": 0.05, \"success_fraction\": 0.0}', 'set-cookie': 'WMF-Last-Access=24-Mar-2024;Path=/;HttpOnly;secure;Expires=Thu, 25 Apr 2024 12:00:00 GMT, WMF-Last-Access-Global=24-Mar-2024;Path=/;Domain=.wikipedia.org;HttpOnly;secure;Expires=Thu, 25 Apr 2024 12:00:00 GMT, GeoIP=ES:VC:Valencia:39.49:-0.40:v4; Path=/; secure; Domain=.wikipedia.org, NetworkProbeLimit=0.001;Path=/;Secure;Max-Age=3600', 'x-client-ip': '91.242.153.104', 'accept-ranges': 'bytes', 'content-length': '18703'}\n"
     ]
    }
   ],
   "source": [
    "# Ver la cabecera de la petición HTTP\n",
    "print(response.headers)"
   ]
  },
  {
   "cell_type": "markdown",
   "id": "182dfc62-b322-4497-9f1d-7c2d3be4d0ad",
   "metadata": {},
   "source": [
    "## 2.2. Funcionament del navegador web"
   ]
  },
  {
   "cell_type": "markdown",
   "id": "b5bb925a-0bfc-4710-baa0-f970948dc9f6",
   "metadata": {},
   "source": [
    "#### Obtenim l'estructura imbrificada"
   ]
  },
  {
   "cell_type": "code",
   "execution_count": 12,
   "id": "cc9aa31c-3c2f-4e10-928a-0e1c51a87ef3",
   "metadata": {},
   "outputs": [
    {
     "name": "stdout",
     "output_type": "stream",
     "text": [
      "b'<!doctype html>\\n<html>\\n<head>\\n    <title>Example Domain</title>\\n\\n    <meta charset=\"utf-8\" />\\n    <meta http-equiv=\"Content-type\" content=\"text/html; charset=utf-8\" />\\n    <meta name=\"viewport\" content=\"width=device-width, initial-scale=1\" />\\n    <style type=\"text/css\">\\n    body {\\n        background-color: #f0f0f2;\\n        margin: 0;\\n        padding: 0;\\n        font-family: -apple-system, system-ui, BlinkMacSystemFont, \"Segoe UI\", \"Open Sans\", \"Helvetica Neue\", Helvetica, Arial, sans-serif;\\n        \\n    }\\n    div {\\n        width: 600px;\\n        margin: 5em auto;\\n        padding: 2em;\\n        background-color: #fdfdff;\\n        border-radius: 0.5em;\\n        box-shadow: 2px 3px 7px 2px rgba(0,0,0,0.02);\\n    }\\n    a:link, a:visited {\\n        color: #38488f;\\n        text-decoration: none;\\n    }\\n    @media (max-width: 700px) {\\n        div {\\n            margin: 0 auto;\\n            width: auto;\\n        }\\n    }\\n    </style>    \\n</head>\\n\\n<body>\\n<div>\\n    <h1>Example Domain</h1>\\n    <p>This domain is for use in illustrative examples in documents. You may use this\\n    domain in literature without prior coordination or asking for permission.</p>\\n    <p><a href=\"https://www.iana.org/domains/example\">More information...</a></p>\\n</div>\\n</body>\\n</html>\\n'\n"
     ]
    }
   ],
   "source": [
    "print(response.content)"
   ]
  },
  {
   "cell_type": "code",
   "execution_count": 17,
   "id": "4e5d78d8-f98a-43a5-a814-41b729625eb7",
   "metadata": {},
   "outputs": [
    {
     "name": "stdout",
     "output_type": "stream",
     "text": [
      "<!DOCTYPE html>\n",
      "<html>\n",
      " <head>\n",
      "  <title>\n",
      "   Example Domain\n",
      "  </title>\n",
      "  <meta charset=\"utf-8\"/>\n",
      "  <meta content=\"text/html; charset=utf-8\" http-equiv=\"Content-type\"/>\n",
      "  <meta content=\"width=device-width, initial-scale=1\" name=\"viewport\"/>\n",
      "  <style type=\"text/css\">\n",
      "   body {\n",
      "        background-color: #f0f0f2;\n",
      "        margin: 0;\n",
      "        padding: 0;\n",
      "        font-family: -apple-system, system-ui, BlinkMacSystemFont, \"Segoe UI\", \"Open Sans\", \"Helvetica Neue\", Helvetica, Arial, sans-serif;\n",
      "        \n",
      "    }\n",
      "    div {\n",
      "        width: 600px;\n",
      "        margin: 5em auto;\n",
      "        padding: 2em;\n",
      "        background-color: #fdfdff;\n",
      "        border-radius: 0.5em;\n",
      "        box-shadow: 2px 3px 7px 2px rgba(0,0,0,0.02);\n",
      "    }\n",
      "    a:link, a:visited {\n",
      "        color: #38488f;\n",
      "        text-decoration: none;\n",
      "    }\n",
      "    @media (max-width: 700px) {\n",
      "        div {\n",
      "            margin: 0 auto;\n",
      "            width: auto;\n",
      "        }\n",
      "    }\n",
      "  </style>\n",
      " </head>\n",
      " <body>\n",
      "  <div>\n",
      "   <h1>\n",
      "    Example Domain\n",
      "   </h1>\n",
      "   <p>\n",
      "    This domain is for use in illustrative examples in documents. You may use this\n",
      "    domain in literature without prior coordination or asking for permission.\n",
      "   </p>\n",
      "   <p>\n",
      "    <a href=\"https://www.iana.org/domains/example\">\n",
      "     More information...\n",
      "    </a>\n",
      "   </p>\n",
      "  </div>\n",
      " </body>\n",
      "</html>\n",
      "\n"
     ]
    }
   ],
   "source": [
    "soup = BeautifulSoup(response.content)\n",
    "print(soup.prettify())"
   ]
  },
  {
   "cell_type": "markdown",
   "id": "57231229-fa7f-439b-913d-e02b0267f4d1",
   "metadata": {},
   "source": [
    "## 2.3. Tipus d'objectes"
   ]
  },
  {
   "cell_type": "markdown",
   "id": "d26d2629-6de1-4831-a315-c8a8b5a864bf",
   "metadata": {},
   "source": [
    "### 2.3.1. Tag"
   ]
  },
  {
   "cell_type": "markdown",
   "id": "52337cba-99ed-47d6-bb88-6a9d9defa552",
   "metadata": {},
   "source": [
    "Tag: Objecte que correspon a una etiqueta XML o HTML en el document original"
   ]
  },
  {
   "cell_type": "code",
   "execution_count": 36,
   "id": "c7db8152-1c98-499f-b2c6-f247545e6fd5",
   "metadata": {},
   "outputs": [
    {
     "data": {
      "text/plain": [
       "bs4.element.Tag"
      ]
     },
     "execution_count": 36,
     "metadata": {},
     "output_type": "execute_result"
    }
   ],
   "source": [
    "soup = BeautifulSoup('<b class=\"boldest\">Extremely bold</b>')\n",
    "tag = soup.b\n",
    "type(tag)"
   ]
  },
  {
   "cell_type": "code",
   "execution_count": 37,
   "id": "028583a3-e038-4ebd-8745-912398007582",
   "metadata": {},
   "outputs": [
    {
     "data": {
      "text/plain": [
       "'b'"
      ]
     },
     "execution_count": 37,
     "metadata": {},
     "output_type": "execute_result"
    }
   ],
   "source": [
    "tag.name"
   ]
  },
  {
   "cell_type": "code",
   "execution_count": 38,
   "id": "e0e0f68d-bc4f-45f3-9276-170cf67f8eec",
   "metadata": {},
   "outputs": [
    {
     "data": {
      "text/plain": [
       "{'class': ['boldest']}"
      ]
     },
     "execution_count": 38,
     "metadata": {},
     "output_type": "execute_result"
    }
   ],
   "source": [
    "tag.attrs"
   ]
  },
  {
   "cell_type": "code",
   "execution_count": 44,
   "id": "cc80f41a-1341-463e-9680-005d800890c1",
   "metadata": {},
   "outputs": [
    {
     "data": {
      "text/plain": [
       "['boldest']"
      ]
     },
     "execution_count": 44,
     "metadata": {},
     "output_type": "execute_result"
    }
   ],
   "source": [
    "tag['class']"
   ]
  },
  {
   "cell_type": "code",
   "execution_count": 45,
   "id": "6af1d03a-e60e-402e-8bf3-66c56597583d",
   "metadata": {},
   "outputs": [
    {
     "name": "stdout",
     "output_type": "stream",
     "text": [
      "<b another-attribute=\"1\" class=\"verybold\">Extremely bold</b>\n"
     ]
    }
   ],
   "source": [
    "# Modifiquem i afegim atributs d'una etiqueta\n",
    "tag['class'] = 'verybold'\n",
    "tag['another-attribute'] = 1\n",
    "print(tag)"
   ]
  },
  {
   "cell_type": "code",
   "execution_count": 46,
   "id": "56013165-1d11-449a-8b64-cb5b9551b474",
   "metadata": {},
   "outputs": [
    {
     "name": "stdout",
     "output_type": "stream",
     "text": [
      "<b>Extremely bold</b>\n"
     ]
    }
   ],
   "source": [
    "# Eliminem atributs d'una etiqueta\n",
    "del tag['class']\n",
    "del tag['another-attribute']\n",
    "print(tag)"
   ]
  },
  {
   "cell_type": "code",
   "execution_count": 47,
   "id": "a8c439a2-c60c-4e64-92a9-a06def88ef33",
   "metadata": {},
   "outputs": [
    {
     "ename": "KeyError",
     "evalue": "'class'",
     "output_type": "error",
     "traceback": [
      "\u001b[0;31m---------------------------------------------------------------------------\u001b[0m",
      "\u001b[0;31mKeyError\u001b[0m                                  Traceback (most recent call last)",
      "Cell \u001b[0;32mIn[47], line 1\u001b[0m\n\u001b[0;32m----> 1\u001b[0m tag[\u001b[38;5;124m'\u001b[39m\u001b[38;5;124mclass\u001b[39m\u001b[38;5;124m'\u001b[39m]\n",
      "File \u001b[0;32m~/anaconda3/lib/python3.11/site-packages/bs4/element.py:1573\u001b[0m, in \u001b[0;36mTag.__getitem__\u001b[0;34m(self, key)\u001b[0m\n\u001b[1;32m   1570\u001b[0m \u001b[38;5;28;01mdef\u001b[39;00m \u001b[38;5;21m__getitem__\u001b[39m(\u001b[38;5;28mself\u001b[39m, key):\n\u001b[1;32m   1571\u001b[0m \u001b[38;5;250m    \u001b[39m\u001b[38;5;124;03m\"\"\"tag[key] returns the value of the 'key' attribute for the Tag,\u001b[39;00m\n\u001b[1;32m   1572\u001b[0m \u001b[38;5;124;03m    and throws an exception if it's not there.\"\"\"\u001b[39;00m\n\u001b[0;32m-> 1573\u001b[0m     \u001b[38;5;28;01mreturn\u001b[39;00m \u001b[38;5;28mself\u001b[39m\u001b[38;5;241m.\u001b[39mattrs[key]\n",
      "\u001b[0;31mKeyError\u001b[0m: 'class'"
     ]
    }
   ],
   "source": [
    "tag['class']"
   ]
  },
  {
   "cell_type": "code",
   "execution_count": 70,
   "id": "ce333a4c-1e43-4860-a652-02731d538d48",
   "metadata": {},
   "outputs": [
    {
     "name": "stdout",
     "output_type": "stream",
     "text": [
      "None\n"
     ]
    }
   ],
   "source": [
    "print(tag.get('class'))"
   ]
  },
  {
   "cell_type": "code",
   "execution_count": 50,
   "id": "fd291059-48aa-406b-b92b-488a735a796d",
   "metadata": {},
   "outputs": [
    {
     "data": {
      "text/plain": [
       "['body']"
      ]
     },
     "execution_count": 50,
     "metadata": {},
     "output_type": "execute_result"
    }
   ],
   "source": [
    "# Atributs amb més d'un valor són mostrats com una llista\n",
    "css_soup = BeautifulSoup('<p class=\"body\"></p>')\n",
    "css_soup.p['class']"
   ]
  },
  {
   "cell_type": "code",
   "execution_count": 51,
   "id": "64a974d1-a6c6-4c51-bfa3-e93637f96f3a",
   "metadata": {},
   "outputs": [
    {
     "data": {
      "text/plain": [
       "['body', 'strikeout']"
      ]
     },
     "execution_count": 51,
     "metadata": {},
     "output_type": "execute_result"
    }
   ],
   "source": [
    "css_soup = BeautifulSoup('<p class=\"body strikeout\"></p>')\n",
    "css_soup.p['class']"
   ]
  },
  {
   "cell_type": "markdown",
   "id": "f35f09a6-61dc-45cb-9797-2510aad23932",
   "metadata": {},
   "source": [
    "### 2.3.2. Navigable String"
   ]
  },
  {
   "cell_type": "markdown",
   "id": "f0e7c991-ca82-4a30-97dd-00081f8fe51d",
   "metadata": {
    "jp-MarkdownHeadingCollapsed": true
   },
   "source": [
    "NavigableString correspon a una cadena de caràcters dins d'un tag"
   ]
  },
  {
   "cell_type": "code",
   "execution_count": 54,
   "id": "8338b91d-8ca0-47f0-8188-5bf7147d0767",
   "metadata": {},
   "outputs": [
    {
     "data": {
      "text/plain": [
       "'Extremely bold'"
      ]
     },
     "execution_count": 54,
     "metadata": {},
     "output_type": "execute_result"
    }
   ],
   "source": [
    "tag.string"
   ]
  },
  {
   "cell_type": "code",
   "execution_count": 55,
   "id": "a5a2602a-efaa-437a-886a-d04333847f9c",
   "metadata": {},
   "outputs": [
    {
     "data": {
      "text/plain": [
       "bs4.element.NavigableString"
      ]
     },
     "execution_count": 55,
     "metadata": {},
     "output_type": "execute_result"
    }
   ],
   "source": [
    "type(tag.string)"
   ]
  },
  {
   "cell_type": "code",
   "execution_count": 56,
   "id": "d5163dcf-fb9e-431e-8f01-42fbfbf46ae4",
   "metadata": {},
   "outputs": [
    {
     "name": "stdout",
     "output_type": "stream",
     "text": [
      "<b>No longer bold</b>\n"
     ]
    }
   ],
   "source": [
    "# Encara que aquest tipus d'objectes no es poden modificar, és possible substituir\n",
    "# el contingut de la cadena utilitzant la funció replace_with:\n",
    "tag.string.replace_with(\"No longer bold\")\n",
    "print(tag)"
   ]
  },
  {
   "cell_type": "markdown",
   "id": "9b86980c-d49c-4e8c-ba6e-dfd00ad4f9ae",
   "metadata": {},
   "source": [
    "### 2.3.3. BeautifulSoup"
   ]
  },
  {
   "cell_type": "markdown",
   "id": "b1ed69ce-a645-433b-9e57-7c4090edb628",
   "metadata": {},
   "source": [
    "Aquest objecte representa el document en el seu conjunt. Generalment es pot tractar com un objecte de tipus tag, per la qual cosa suporta l'ús de la majoria d'operacions que permeten navegar per l'estructura imbricada."
   ]
  },
  {
   "cell_type": "code",
   "execution_count": 61,
   "id": "52e17ec8-af0d-4bf0-b227-6b0d0a826dbb",
   "metadata": {},
   "outputs": [
    {
     "data": {
      "text/plain": [
       "'[document]'"
      ]
     },
     "execution_count": 61,
     "metadata": {},
     "output_type": "execute_result"
    }
   ],
   "source": [
    "soup.name"
   ]
  },
  {
   "cell_type": "markdown",
   "id": "a3667af8-7706-42ca-97b5-5e7b28606cd7",
   "metadata": {},
   "source": [
    "### 2.3.4. Comment"
   ]
  },
  {
   "cell_type": "markdown",
   "id": "68386a55-7b69-491f-9c9e-8f6cbc023bd9",
   "metadata": {},
   "source": [
    "Pot ser necessari accedir a algunes dades d'interès mitjançant l'objecte Comment. Es tracta d'un tipus de\n",
    "NavigableString, que es mostra amb un format especial."
   ]
  },
  {
   "cell_type": "code",
   "execution_count": 68,
   "id": "347ac117-6caf-4719-bab2-1a8e3a87129f",
   "metadata": {},
   "outputs": [
    {
     "name": "stdout",
     "output_type": "stream",
     "text": [
      "<b>\n",
      " <!--Hey, buddy. Want to buy a used parser?-->\n",
      "</b>\n",
      "\n"
     ]
    }
   ],
   "source": [
    "markup = \"<b><!--Hey, buddy. Want to buy a used parser?--></b>\"\n",
    "soup = BeautifulSoup(markup)\n",
    "print(soup.b.prettify())"
   ]
  },
  {
   "cell_type": "code",
   "execution_count": 69,
   "id": "b493f1ca-191f-476e-bc14-e9c8f7b8efe3",
   "metadata": {},
   "outputs": [
    {
     "data": {
      "text/plain": [
       "bs4.element.Comment"
      ]
     },
     "execution_count": 69,
     "metadata": {},
     "output_type": "execute_result"
    }
   ],
   "source": [
    "comment = soup.b.string\n",
    "type(comment)"
   ]
  },
  {
   "cell_type": "markdown",
   "id": "5a19f214-783f-4572-96e4-1d2289b890ae",
   "metadata": {},
   "source": [
    "## 2.4. Navegar per l'estructura imbricada"
   ]
  },
  {
   "cell_type": "code",
   "execution_count": 87,
   "id": "42bd3993-432d-4623-ae2d-c5e0d556711f",
   "metadata": {},
   "outputs": [],
   "source": [
    "from bs4 import BeautifulSoup\n",
    "\n",
    "html = '''\n",
    "<html>\n",
    "<head>\n",
    "<title>The Dormouse's story</title>\n",
    "</head>\n",
    "<body>\n",
    "    <p class=\"title\">\n",
    "        <b>The Dormouse's story</b>\n",
    "    </p>\n",
    "    <p class=\"story\">\n",
    "        Once upon a time there were three little sisters; and their names were\n",
    "        <a class=\"sister\" href=\"http://example.com/elsie\" id=\"link1\">Elsie</a>,\n",
    "        <a class=\"sister\" href=\"http://example.com/lacie\" id=\"link2\">Lacie</a> and\n",
    "        <a class=\"sister\" href=\"http://example.com/tillie\" id=\"link3\">Tillie</a>;\n",
    "        and they lived at the bottom of a well.\n",
    "    </p>\n",
    "    <p class=\"story\">...</p>\n",
    "</body>\n",
    "</html>\n",
    "'''\n",
    "\n",
    "soup = BeautifulSoup(html, 'html.parser')\n"
   ]
  },
  {
   "cell_type": "code",
   "execution_count": 78,
   "id": "8c054dcc-4ecd-4929-ab32-1bc3cdc92287",
   "metadata": {},
   "outputs": [
    {
     "data": {
      "text/plain": [
       "<title>The Dormouse's story</title>"
      ]
     },
     "execution_count": 78,
     "metadata": {},
     "output_type": "execute_result"
    }
   ],
   "source": [
    "soup.title"
   ]
  },
  {
   "cell_type": "code",
   "execution_count": 79,
   "id": "bc619cd9-5b2c-4ce3-b3ce-a31084115a7d",
   "metadata": {},
   "outputs": [
    {
     "data": {
      "text/plain": [
       "'title'"
      ]
     },
     "execution_count": 79,
     "metadata": {},
     "output_type": "execute_result"
    }
   ],
   "source": [
    "soup.title.name"
   ]
  },
  {
   "cell_type": "code",
   "execution_count": 80,
   "id": "6a022d94-4351-4de7-b9af-442002697fe0",
   "metadata": {},
   "outputs": [
    {
     "data": {
      "text/plain": [
       "\"The Dormouse's story\""
      ]
     },
     "execution_count": 80,
     "metadata": {},
     "output_type": "execute_result"
    }
   ],
   "source": [
    "soup.title.string"
   ]
  },
  {
   "cell_type": "code",
   "execution_count": 81,
   "id": "d2892d1e-b756-4025-b69a-ff27648cdcc8",
   "metadata": {},
   "outputs": [
    {
     "data": {
      "text/plain": [
       "'head'"
      ]
     },
     "execution_count": 81,
     "metadata": {},
     "output_type": "execute_result"
    }
   ],
   "source": [
    "soup.title.parent.name"
   ]
  },
  {
   "cell_type": "code",
   "execution_count": 82,
   "id": "b901c2c4-a195-421c-baaf-26f523287ded",
   "metadata": {},
   "outputs": [
    {
     "data": {
      "text/plain": [
       "<p class=\"title\">\n",
       "<b>The Dormouse's story</b>\n",
       "</p>"
      ]
     },
     "execution_count": 82,
     "metadata": {},
     "output_type": "execute_result"
    }
   ],
   "source": [
    "soup.p"
   ]
  },
  {
   "cell_type": "code",
   "execution_count": 83,
   "id": "93ae86ec-17b3-46e8-8477-b8b7fe23254b",
   "metadata": {},
   "outputs": [
    {
     "data": {
      "text/plain": [
       "['title']"
      ]
     },
     "execution_count": 83,
     "metadata": {},
     "output_type": "execute_result"
    }
   ],
   "source": [
    "soup.p['class']"
   ]
  },
  {
   "cell_type": "code",
   "execution_count": 84,
   "id": "940f8850-7080-4ece-b92b-af18077cad2a",
   "metadata": {},
   "outputs": [
    {
     "data": {
      "text/plain": [
       "<a class=\"sister\" href=\"http://example.com/elsie\" id=\"link1\">Elsie</a>"
      ]
     },
     "execution_count": 84,
     "metadata": {},
     "output_type": "execute_result"
    }
   ],
   "source": [
    "soup.a"
   ]
  },
  {
   "cell_type": "code",
   "execution_count": 85,
   "id": "523e520f-89cd-4b41-801a-c6cdb17e5a03",
   "metadata": {},
   "outputs": [
    {
     "data": {
      "text/plain": [
       "[<a class=\"sister\" href=\"http://example.com/elsie\" id=\"link1\">Elsie</a>,\n",
       " <a class=\"sister\" href=\"http://example.com/lacie\" id=\"link2\">Lacie</a>,\n",
       " <a class=\"sister\" href=\"http://example.com/tillie\" id=\"link2\">Tillie</a>]"
      ]
     },
     "execution_count": 85,
     "metadata": {},
     "output_type": "execute_result"
    }
   ],
   "source": [
    "soup.find_all('a')"
   ]
  },
  {
   "cell_type": "code",
   "execution_count": 88,
   "id": "5aed2356-d38f-41e0-8b2f-fba1f407e284",
   "metadata": {},
   "outputs": [
    {
     "data": {
      "text/plain": [
       "<a class=\"sister\" href=\"http://example.com/tillie\" id=\"link3\">Tillie</a>"
      ]
     },
     "execution_count": 88,
     "metadata": {},
     "output_type": "execute_result"
    }
   ],
   "source": [
    "soup.find(id=\"link3\")"
   ]
  },
  {
   "cell_type": "code",
   "execution_count": 91,
   "id": "25cbb9ab-1b01-4d7a-b3ec-9dfecf7992ba",
   "metadata": {},
   "outputs": [
    {
     "name": "stdout",
     "output_type": "stream",
     "text": [
      "http://example.com/elsie\n",
      "http://example.com/lacie\n",
      "http://example.com/tillie\n"
     ]
    }
   ],
   "source": [
    "# Així mateix, és habitual extreure totes les URL contingudes en un lloc web,\n",
    "# associades a les etiquetes de tipus <a>, mitjançant la instrucció:\n",
    "for link in soup.find_all('a'):\n",
    "    print(link.get('href'))"
   ]
  },
  {
   "cell_type": "code",
   "execution_count": 92,
   "id": "862b2756-c4d8-41c6-88b4-bf2f0f9ea47e",
   "metadata": {},
   "outputs": [
    {
     "name": "stdout",
     "output_type": "stream",
     "text": [
      "\n",
      "\n",
      "\n",
      "The Dormouse's story\n",
      "\n",
      "\n",
      "\n",
      "The Dormouse's story\n",
      "\n",
      "\n",
      "        Once upon a time there were three little sisters; and their names were\n",
      "        Elsie,\n",
      "        Lacie and\n",
      "        Tillie;\n",
      "        and they lived at the bottom of a well.\n",
      "    \n",
      "...\n",
      "\n",
      "\n",
      "\n"
     ]
    }
   ],
   "source": [
    "# La següent funció permet extreure la totalitat del text contingut en una pàgina web\n",
    "print(soup.get_text())"
   ]
  },
  {
   "cell_type": "markdown",
   "id": "364636c4-5c42-44f9-b49f-9fb46c7d3dc6",
   "metadata": {},
   "source": [
    "### 2.4.1. Anàlisi vertical"
   ]
  },
  {
   "cell_type": "markdown",
   "id": "0042a6c2-dd95-4c32-823f-9bf478e2659e",
   "metadata": {},
   "source": [
    "Les diferents etiquetes poden contenir cadenes de caràcters, i també altres eti-\n",
    "quetes. Aquests elements són els que es coneixen com els fills (children) de\n",
    "l'etiqueta, i BeautifulSoup proporciona gran quantitat de mètodes que perme-\n",
    "ten navegar i iterar sobre els fills d'aquesta etiqueta.\n",
    "El mètode més senzill per a navegar per l'estructura consisteix a utilitzar el\n",
    "nom de l'etiqueta d'interès"
   ]
  },
  {
   "cell_type": "code",
   "execution_count": 97,
   "id": "313f27a2-54df-4367-9183-ef32112830c2",
   "metadata": {},
   "outputs": [
    {
     "data": {
      "text/plain": [
       "<head>\n",
       "<title>The Dormouse's story</title>\n",
       "</head>"
      ]
     },
     "execution_count": 97,
     "metadata": {},
     "output_type": "execute_result"
    }
   ],
   "source": [
    "# Per a accedir al <head> del document HTML d'interès, utilitzarem la instrucció .head:\n",
    "head_tag = soup.head\n",
    "head_tag"
   ]
  },
  {
   "cell_type": "code",
   "execution_count": 99,
   "id": "3019792f-0d25-4554-b29d-c5ed724cc18b",
   "metadata": {},
   "outputs": [
    {
     "data": {
      "text/plain": [
       "<b>The Dormouse's story</b>"
      ]
     },
     "execution_count": 99,
     "metadata": {},
     "output_type": "execute_result"
    }
   ],
   "source": [
    "# De la mateixa manera, es pot ampliar la cerca encadenant etiquetes. En el següent\n",
    "# exemple es mostra la primera etiqueta <b> trobada en el <body> del document:\n",
    "soup.body.b"
   ]
  },
  {
   "cell_type": "markdown",
   "id": "f641b128-0e95-42f7-9ca6-363d273d1e79",
   "metadata": {},
   "source": [
    "És important destacar que aquest mètode solament retorna la primera etiqueta\n",
    "amb aquest nom, per la qual cosa si es pretén recuperar totes les etiquetes d'un\n",
    "mateix tipus, és necessari utilitzar la funció find_all."
   ]
  },
  {
   "cell_type": "code",
   "execution_count": 100,
   "id": "087dded1-1d99-4ebb-bc10-12a02cdab36b",
   "metadata": {},
   "outputs": [
    {
     "data": {
      "text/plain": [
       "['\\n', <title>The Dormouse's story</title>, '\\n']"
      ]
     },
     "execution_count": 100,
     "metadata": {},
     "output_type": "execute_result"
    }
   ],
   "source": [
    "# Un altre mètode per a obtenir els fills d'una etiqueta consisteix a utilitzar la funció .contents:\n",
    "head_tag.contents"
   ]
  },
  {
   "cell_type": "code",
   "execution_count": 105,
   "id": "1651a6f7-07f7-42d6-95a8-dc826c5a9efd",
   "metadata": {},
   "outputs": [
    {
     "data": {
      "text/plain": [
       "<title>The Dormouse's story</title>"
      ]
     },
     "execution_count": 105,
     "metadata": {},
     "output_type": "execute_result"
    }
   ],
   "source": [
    "title_tag = head_tag.contents[1]\n",
    "title_tag"
   ]
  },
  {
   "cell_type": "code",
   "execution_count": 106,
   "id": "f0a2da05-db79-4ad3-bf70-14fe6b3e353b",
   "metadata": {},
   "outputs": [
    {
     "data": {
      "text/plain": [
       "[\"The Dormouse's story\"]"
      ]
     },
     "execution_count": 106,
     "metadata": {},
     "output_type": "execute_result"
    }
   ],
   "source": [
    "title_tag.contents"
   ]
  },
  {
   "cell_type": "code",
   "execution_count": 110,
   "id": "9f1a1880-b722-4136-9144-9b317bf56d52",
   "metadata": {},
   "outputs": [
    {
     "name": "stdout",
     "output_type": "stream",
     "text": [
      "The Dormouse's story\n"
     ]
    }
   ],
   "source": [
    "# Així mateix, en lloc d'obtenir els fills com una llista, es poden extreure mitjançant el generador .children:\n",
    "for child in title_tag.children:\n",
    "    print(child)"
   ]
  },
  {
   "cell_type": "raw",
   "id": "3ded9db8-e386-4ae3-bfe6-4d0d9b69a314",
   "metadata": {},
   "source": [
    "Tant .contents com .children només consideren els fills directes d'una etiqueta. Així, en l'exemple anterior, <head> només té com a fill directe l'etiqueta <title>, però aquesta última té al seu torn un fill, la cadena «The Dormouse’s story», per la qual cosa aquesta cadena també es pot considerar descendència de l'etiqueta <head>."
   ]
  },
  {
   "cell_type": "code",
   "execution_count": 112,
   "id": "da47cb6a-1a40-497a-9497-b9e5fab9af43",
   "metadata": {},
   "outputs": [
    {
     "name": "stdout",
     "output_type": "stream",
     "text": [
      "['\\n', <title>The Dormouse's story</title>, '\\n']\n",
      "\n",
      "\n",
      "<title>The Dormouse's story</title>\n",
      "The Dormouse's story\n",
      "\n",
      "\n"
     ]
    }
   ],
   "source": [
    "# Si es vol recuperar la totalitat de la descendència d'una etiqueta, serà necessari utilitzar el mètode .descendants:\n",
    "print(head_tag.contents)\n",
    "\n",
    "for child in head_tag.descendants:\n",
    "    print(child)"
   ]
  },
  {
   "cell_type": "raw",
   "id": "b2e4343c-b1a9-4bc9-9af9-ab0f062cff9b",
   "metadata": {},
   "source": [
    "De manera anàloga, tota etiqueta i tota cadena, excepte l'objecte BeautifulSoup, té un element pare (parent)."
   ]
  },
  {
   "cell_type": "code",
   "execution_count": 114,
   "id": "d78bb58f-a1e9-4a1e-bbe5-2939331c220b",
   "metadata": {},
   "outputs": [
    {
     "data": {
      "text/plain": [
       "<title>The Dormouse's story</title>"
      ]
     },
     "execution_count": 114,
     "metadata": {},
     "output_type": "execute_result"
    }
   ],
   "source": [
    "# Es pot accedir a l'etiqueta <head> a partir del seu fill <title>, mitjançant la instrucció .parent:\n",
    "title_tag = soup.title\n",
    "title_tag"
   ]
  },
  {
   "cell_type": "code",
   "execution_count": 115,
   "id": "765d2817-f80e-4313-812a-1bd47f1818af",
   "metadata": {},
   "outputs": [
    {
     "data": {
      "text/plain": [
       "<head>\n",
       "<title>The Dormouse's story</title>\n",
       "</head>"
      ]
     },
     "execution_count": 115,
     "metadata": {},
     "output_type": "execute_result"
    }
   ],
   "source": [
    "title_tag.parent"
   ]
  },
  {
   "cell_type": "raw",
   "id": "72c23e32-a2bf-4f3a-8e45-e9dda99cecca",
   "metadata": {},
   "source": [
    "Finalment, atès que .parent només accedeix a l'element pare directe, la instrucció .parents permet iterar sobre tota l'ascendència. El següent exemple mostra com és possible navegar, mitjançant la funció .parents, des d'una etiqueta <a> continguda en un document fins a la part superior d'aquest document:"
   ]
  },
  {
   "cell_type": "code",
   "execution_count": 116,
   "id": "76e584be-bb29-4aa9-904a-f7ecea3bd968",
   "metadata": {},
   "outputs": [
    {
     "data": {
      "text/plain": [
       "<a class=\"sister\" href=\"http://example.com/elsie\" id=\"link1\">Elsie</a>"
      ]
     },
     "execution_count": 116,
     "metadata": {},
     "output_type": "execute_result"
    }
   ],
   "source": [
    "link = soup.a\n",
    "link"
   ]
  },
  {
   "cell_type": "code",
   "execution_count": 117,
   "id": "81c25cc5-85d5-4670-a50b-05038af8a0a7",
   "metadata": {},
   "outputs": [
    {
     "name": "stdout",
     "output_type": "stream",
     "text": [
      "p\n",
      "body\n",
      "html\n",
      "[document]\n"
     ]
    }
   ],
   "source": [
    "for parent in link.parents:\n",
    "    if parent is None:\n",
    "        print(parent)\n",
    "    else:\n",
    "        print(parent.name)"
   ]
  },
  {
   "cell_type": "markdown",
   "id": "dc01a214-80c7-45cd-a72b-f015a14fb1ef",
   "metadata": {},
   "source": [
    "### 2.4.2. Anàlisi horitzontal"
   ]
  },
  {
   "cell_type": "markdown",
   "id": "ab916f1d-a6c9-4379-ad7f-2d50ba2cff77",
   "metadata": {},
   "source": [
    "Els elements germans (siblings) d'un document HTML són els que es troben al\n",
    "mateix nivell, és a dir, que són fills d'una mateixa etiqueta. Així, fixem-nos en\n",
    "el senzill exemple següent:"
   ]
  },
  {
   "cell_type": "code",
   "execution_count": 118,
   "id": "68295332-86e2-4172-80a2-49f54dd672c3",
   "metadata": {},
   "outputs": [
    {
     "name": "stdout",
     "output_type": "stream",
     "text": [
      "<html>\n",
      " <body>\n",
      "  <a>\n",
      "   <b>\n",
      "    text1\n",
      "   </b>\n",
      "   <c>\n",
      "    text2\n",
      "   </c>\n",
      "  </a>\n",
      " </body>\n",
      "</html>\n",
      "\n"
     ]
    }
   ],
   "source": [
    "sibling_soup = BeautifulSoup(\"<a><b>text1</b><c>text2</c></b></a>\")\n",
    "print(sibling_soup.prettify())"
   ]
  },
  {
   "cell_type": "raw",
   "id": "8b7f8844-3a23-4ec4-bf14-66e413bf4a5c",
   "metadata": {},
   "source": [
    "Les etiquetes <b> i <c> es presenten com a germanes, en ser ambdues elements fills d'una etiqueta <a>.\n"
   ]
  },
  {
   "cell_type": "markdown",
   "id": "e64dc84e-ffa3-4263-9da9-1e216e720816",
   "metadata": {},
   "source": [
    "En aquest cas, les funcions .next_sibling i .previous_sibling permeten\n",
    "navegar pels elements d'un lloc web que es troben al mateix nivell:"
   ]
  },
  {
   "cell_type": "code",
   "execution_count": 119,
   "id": "2478e080-d4f6-4342-9b44-2990d3af03b4",
   "metadata": {},
   "outputs": [
    {
     "data": {
      "text/plain": [
       "<c>text2</c>"
      ]
     },
     "execution_count": 119,
     "metadata": {},
     "output_type": "execute_result"
    }
   ],
   "source": [
    "sibling_soup.b.next_sibling"
   ]
  },
  {
   "cell_type": "code",
   "execution_count": 120,
   "id": "f9fe3cea-fe77-4a03-bc9f-c0cbb18bc21a",
   "metadata": {},
   "outputs": [
    {
     "data": {
      "text/plain": [
       "<b>text1</b>"
      ]
     },
     "execution_count": 120,
     "metadata": {},
     "output_type": "execute_result"
    }
   ],
   "source": [
    "sibling_soup.c.previous_sibling"
   ]
  },
  {
   "cell_type": "markdown",
   "id": "424d6337-e5c7-4fd3-9f96-636987ed8281",
   "metadata": {},
   "source": [
    "De la mateixa manera, .next_siblings i .previous_siblings permeten\n",
    "iterar sobre els diferents germans d'una etiqueta."
   ]
  },
  {
   "cell_type": "code",
   "execution_count": 122,
   "id": "75d65ea4-d520-4cfe-ab56-c67d8381ef6e",
   "metadata": {},
   "outputs": [
    {
     "name": "stdout",
     "output_type": "stream",
     "text": [
      "',\\n        '\n",
      "<a class=\"sister\" href=\"http://example.com/lacie\" id=\"link2\">Lacie</a>\n",
      "' and\\n        '\n",
      "<a class=\"sister\" href=\"http://example.com/tillie\" id=\"link3\">Tillie</a>\n",
      "';\\n        and they lived at the bottom of a well.\\n    '\n"
     ]
    }
   ],
   "source": [
    "# Així, reprenent l'exemple d'Alícia al país de les meravelles, a partir d'un element <a>, es pot obtenir la resta:\n",
    "for sibling in soup.a.next_siblings:\n",
    "    print(repr(sibling))"
   ]
  },
  {
   "cell_type": "code",
   "execution_count": 125,
   "id": "3001a22e-2e76-4db5-88a9-9691b2ccda49",
   "metadata": {},
   "outputs": [
    {
     "name": "stdout",
     "output_type": "stream",
     "text": [
      "' and\\n        '\n",
      "<a class=\"sister\" href=\"http://example.com/lacie\" id=\"link2\">Lacie</a>\n",
      "',\\n        '\n",
      "<a class=\"sister\" href=\"http://example.com/elsie\" id=\"link1\">Elsie</a>\n",
      "'\\n        Once upon a time there were three little sisters; and their names were\\n        '\n"
     ]
    }
   ],
   "source": [
    "for sibling in soup.find(id=\"link3\").previous_siblings:\n",
    "    print(repr(sibling))"
   ]
  },
  {
   "cell_type": "markdown",
   "id": "dae9702d-ab9c-4726-95a7-adafd5f14b8f",
   "metadata": {},
   "source": [
    "## 2.5. Funcions principals"
   ]
  },
  {
   "cell_type": "markdown",
   "id": "541d6213-1d6c-450f-a289-0810f9b4434d",
   "metadata": {},
   "source": [
    "La següent llista enumera el conjunt de funcions de BeautifulSoup més utilitzades:"
   ]
  },
  {
   "cell_type": "raw",
   "id": "32890dd7-7aca-4534-a297-8f866f5e4682",
   "metadata": {},
   "source": [
    "find_all. Aquest mètode extreu tots els objectes Tag i NavigableString\n",
    "de l'estructura analitzada que coincideixen amb els criteris donats. Funció\n",
    "equivalent (accessible en versions anteriors de BeautifulSoup): findAll."
   ]
  },
  {
   "cell_type": "raw",
   "id": "80ce10e5-bc4e-4f86-8aaf-3e66c961ec51",
   "metadata": {},
   "source": [
    "find. En aquest cas, la funció només retorna el primer objecte que coin-\n",
    "cideix amb els criteris donats."
   ]
  },
  {
   "cell_type": "raw",
   "id": "d61471fe-ed08-454a-b0b7-6623d76c4a2f",
   "metadata": {},
   "source": [
    "find_all_next. Extreu tots els elements següents a un objecte donat,\n",
    "que compleixen els criteris especificats.\n",
    "Funció equivalent (accessible en versions anteriors de BeautifulSoup): findAllNext."
   ]
  },
  {
   "cell_type": "raw",
   "id": "0d1ef090-86ed-49dc-ab35-8bda3cc1717e",
   "metadata": {},
   "source": [
    "find_next. Identifica el primer element següent a un objecte donat, que\n",
    "compleix els criteris especificats. Funció equivalent (accessible en versions\n",
    "anteriors de BeautifulSoup): findNext."
   ]
  },
  {
   "cell_type": "raw",
   "id": "e7b1c17f-20b0-4d3a-b377-d955521ac0fe",
   "metadata": {},
   "source": [
    "find_all_previous. Extreu tots els elements previs a un objecte donat,\n",
    "que compleixen els criteris especificats. Funció equivalent (accessible en\n",
    "versions anteriors de BeautifulSoup): findAllPrevious."
   ]
  },
  {
   "cell_type": "raw",
   "id": "017d4c34-9e6e-41cf-b3ce-d377a62914d8",
   "metadata": {},
   "source": [
    "find_previous. Identifica el primer element previ a un objecte donat,\n",
    "que compleix els criteris especificats. Funció equivalent (accessible en ver-\n",
    "sions anteriors de BeautifulSoup): findPrevious."
   ]
  },
  {
   "cell_type": "raw",
   "id": "4396efab-fafd-48c1-b8bc-9b39660c4b97",
   "metadata": {},
   "source": [
    "find_next_siblings. Extreu tots els elements germans següents d'un\n",
    "objecte donat, que compleixen els criteris especificats. Funció equivalent\n",
    "(accessible en versions anteriors de BeautifulSoup): findNextSiblings."
   ]
  },
  {
   "cell_type": "raw",
   "id": "3071ce5f-ab09-4bf4-a554-052df41bd817",
   "metadata": {},
   "source": [
    "find_next_sibling. Identifica el primer element germà següent d'un\n",
    "objecte donat, que compleix els criteris especificats. Funció equivalent (ac-\n",
    "cessible en versions anteriors de BeautifulSoup): findNextSibling."
   ]
  },
  {
   "cell_type": "raw",
   "id": "ca9e6765-fd0c-4e80-8e9a-06bd41996be4",
   "metadata": {},
   "source": [
    "find_previous_siblings. Extreu tots els elements germans previs d'un\n",
    "objecte donat, que compleixen els criteris especificats. Funció equivalent\n",
    "(accessible en versions anteriors de BeautifulSoup): findPreviousSi-\n",
    "blings."
   ]
  },
  {
   "cell_type": "raw",
   "id": "4a4105ad-c120-461f-8e4c-625c9f2e4731",
   "metadata": {},
   "source": [
    "find_previous_sibling. Identifica el primer element germà previ d'un\n",
    "objecte donat, que compleix els criteris especificats. Funció equivalent (ac-\n",
    "cessible en versions anteriors de BeautifulSoup): findPreviousSibling."
   ]
  },
  {
   "cell_type": "raw",
   "id": "90a61e64-e4a4-4209-994f-cc97b1b26c2f",
   "metadata": {},
   "source": [
    "find_parents. Extreu tots els elements pare d'un objecte donat, que\n",
    "compleixen els criteris especificats. Funció equivalent (accessible en versi-\n",
    "ons anteriors de BeautifulSoup): findParents."
   ]
  },
  {
   "cell_type": "raw",
   "id": "05bb0f51-f39a-4362-87e8-6168d238dcb6",
   "metadata": {},
   "source": [
    "find_parent. Identifica el primer element pare d'un objecte donat, que\n",
    "compleix els criteris especificats. Funció equivalent (accessible en versions\n",
    "anteriors de BeautifulSoup): findParent."
   ]
  },
  {
   "cell_type": "raw",
   "id": "f4d6aa19-454a-487e-8e63-a91e7e0aee1e",
   "metadata": {},
   "source": [
    "replace_with. Elimina un element i el substitueix per l'etiqueta o la ca-\n",
    "dena proporcionades. Funció equivalent (accessible en versions anteriors\n",
    "de BeautifulSoup): replaceWith."
   ]
  },
  {
   "cell_type": "raw",
   "id": "10cd3234-32c6-4f7a-983a-8dd00d6effbf",
   "metadata": {},
   "source": [
    "wrap. Introdueix un element en l'etiqueta especificada."
   ]
  },
  {
   "cell_type": "raw",
   "id": "d47be80b-fa21-401d-965f-fb19c634ac15",
   "metadata": {},
   "source": [
    "unwrap. Reemplaça una etiqueta amb el seu contingut."
   ]
  },
  {
   "cell_type": "markdown",
   "id": "093c4b19-7d1d-455a-aa35-65c1f8af50dc",
   "metadata": {},
   "source": [
    "# 3. Web Scraping de contingut gràfic i audiovisual"
   ]
  },
  {
   "cell_type": "markdown",
   "id": "3d5b71c4-86d0-4b04-a770-d1139a406010",
   "metadata": {},
   "source": [
    "A més del text procedent d'un lloc web, pot ser útil extreure i emmagatzemar\n",
    "certes imatges o un altre contingut audiovisual. Per a això, es pot implementar\n",
    "un mètode que guardi aquest contingut predeterminat, donada la seva URL. El\n",
    "següent exemple emmagatzema la imatge amb URL source_url a la carpeta\n",
    "Pictures:"
   ]
  },
  {
   "cell_type": "code",
   "execution_count": 127,
   "id": "be9690f3-2cb0-41f8-b989-1083b9fb52fa",
   "metadata": {},
   "outputs": [],
   "source": [
    "import requests\n",
    "def load_requests(source_url):\n",
    "    r = requests.get(source_url, stream = True)\n",
    "    if r.status_code == 200:\n",
    "        aSplit = source_url.split('/')\n",
    "        ruta = \"/home/radaub/Documentos/UOC/Data Science/TipologiaCicleVidaDades/Sem2/Bloc2\"+aSplit[len(aSplit)-1]\n",
    "        print(ruta)\n",
    "        output = open(ruta,\"wb\")\n",
    "    for chunk in r:\n",
    "        output.write(chunk)\n",
    "        output.close()"
   ]
  },
  {
   "cell_type": "markdown",
   "id": "fbbae119-6b08-4fc4-ad8b-5a1f3860adf9",
   "metadata": {},
   "source": [
    "Per tant, per a fer web scraping sobre les imatges d'un lloc web haurem d'obtenir\n",
    "les seves URL per a emmagatzemar-les després en una carpeta, en aquest cas\n",
    "Pictures, mitjançant la funció load_requests creada anteriorment.\n",
    "\n",
    "El següent exemple mostra el resultat d'extreure les imatges contingudes a\n",
    "la pàgina de Viquipèdia destinada a l'ACM International Collegiate Program-\n",
    "ming, per a emmagatzemar-les posteriorment a la carpeta Pictures mostrada\n",
    "a la figura 7."
   ]
  },
  {
   "cell_type": "code",
   "execution_count": 129,
   "id": "d4d79233-ca10-40ec-a51c-277eda2410f4",
   "metadata": {},
   "outputs": [],
   "source": [
    "from bs4 import BeautifulSoup\n",
    "import requests\n",
    "url = 'https://en.wikipedia.org/wiki/acm_international_collegiate_programming_contest'\n",
    "page = requests.get(url)\n",
    "soup = BeautifulSoup(page.content)\n",
    "images = []\n",
    "i = 0\n",
    "for img in soup.findAll('img'):\n",
    "    images.append(img.get('src'))\n",
    "    if ('static' not in images[i]):\n",
    "        load_requests(\"https:\"+images[i])\n",
    "        i = i+1"
   ]
  },
  {
   "cell_type": "code",
   "execution_count": null,
   "id": "bd9b953f-db5b-4fdb-b1d8-88b115692855",
   "metadata": {},
   "outputs": [],
   "source": []
  },
  {
   "cell_type": "code",
   "execution_count": null,
   "id": "963f95c0-3a95-4f53-888c-a20efa3fb87d",
   "metadata": {},
   "outputs": [],
   "source": []
  }
 ],
 "metadata": {
  "kernelspec": {
   "display_name": "Python 3 (ipykernel)",
   "language": "python",
   "name": "python3"
  },
  "language_info": {
   "codemirror_mode": {
    "name": "ipython",
    "version": 3
   },
   "file_extension": ".py",
   "mimetype": "text/x-python",
   "name": "python",
   "nbconvert_exporter": "python",
   "pygments_lexer": "ipython3",
   "version": "3.11.7"
  }
 },
 "nbformat": 4,
 "nbformat_minor": 5
}
